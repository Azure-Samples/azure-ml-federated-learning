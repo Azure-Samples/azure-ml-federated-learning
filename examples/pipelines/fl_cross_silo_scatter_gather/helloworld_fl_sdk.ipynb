{
 "cells": [
  {
   "attachments": {},
   "cell_type": "markdown",
   "metadata": {},
   "source": [
    "### Using the experimental FL Scatter-Gather DSL Node to submit the HELLOWORLD example "
   ]
  },
  {
   "attachments": {},
   "cell_type": "markdown",
   "metadata": {},
   "source": [
    "### Requirements"
   ]
  },
  {
   "attachments": {},
   "cell_type": "markdown",
   "metadata": {},
   "source": [
    "Create AML resources by following this tutorial: \n",
    "https://github.com/Azure-Samples/azure-ml-federated-learning/blob/main/docs/quickstart.md"
   ]
  },
  {
   "attachments": {},
   "cell_type": "markdown",
   "metadata": {},
   "source": [
    "##### Import libraries"
   ]
  },
  {
   "cell_type": "code",
   "execution_count": 2,
   "metadata": {},
   "outputs": [],
   "source": [
    "import os\n",
    "import argparse\n",
    "import random\n",
    "import string\n",
    "import datetime\n",
    "import webbrowser\n",
    "import time\n",
    "import json\n",
    "import sys\n",
    "\n",
    "# Azure ML sdk v2 imports\n",
    "import azure\n",
    "from azure.identity import DefaultAzureCredential, InteractiveBrowserCredential\n",
    "from azure.ai.ml import MLClient, Input, Output\n",
    "from azure.ai.ml.constants import AssetTypes\n",
    "from azure.ai.ml.dsl import pipeline\n",
    "from azure.ai.ml import load_component\n",
    "\n",
    "# to handle yaml config easily\n",
    "from omegaconf import OmegaConf"
   ]
  },
  {
   "attachments": {},
   "cell_type": "markdown",
   "metadata": {},
   "source": [
    "#### Load components"
   ]
  },
  {
   "cell_type": "code",
   "execution_count": 3,
   "metadata": {},
   "outputs": [],
   "source": [
    "YAML_CONFIG = OmegaConf.load(\"config.yaml\")\n",
    "# path to the components\n",
    "COMPONENTS_FOLDER = os.path.join(\n",
    "    \"./\", \"..\", \"..\", \"components\", \"HELLOWORLD\"\n",
    ")\n",
    "\n",
    "# path to the shared components\n",
    "SHARED_COMPONENTS_FOLDER = os.path.join(\n",
    "    \"./\", \"..\", \"..\", \"components\", \"utils\"\n",
    ")\n",
    "\n",
    "\n",
    "preprocessing_component = load_component(\n",
    "    source=os.path.join(COMPONENTS_FOLDER, \"preprocessing\", \"spec.yaml\")\n",
    ")\n",
    "\n",
    "training_component = load_component(\n",
    "    source=os.path.join(COMPONENTS_FOLDER, \"traininsilo\", \"spec.yaml\")\n",
    ")\n",
    "\n",
    "aggregate_component = load_component(\n",
    "    source=os.path.join(SHARED_COMPONENTS_FOLDER, \"aggregatemodelweights\", \"spec.yaml\")\n",
    ")"
   ]
  },
  {
   "attachments": {},
   "cell_type": "markdown",
   "metadata": {},
   "source": [
    "#### Create ML client"
   ]
  },
  {
   "cell_type": "code",
   "execution_count": 4,
   "metadata": {},
   "outputs": [
    {
     "name": "stdout",
     "output_type": "stream",
     "text": [
      "Client created from user-provided values.\n"
     ]
    }
   ],
   "source": [
    "# USER TODO: fill in these values if you wish to produce a client handle without going through online authentication.\n",
    "subscription_id = '48bbc269-ce89-4f6f-9a12-c6f91fcb772d'\n",
    "resource_group = 'amitgarg-fldev-rg'\n",
    "workspace = 'aml-flhe'\n",
    "\n",
    "from azure.identity import DefaultAzureCredential\n",
    "from azure.ai.ml import MLClient\n",
    "\n",
    "if subscription_id is not None and resource_group is not None and workspace is not None:\n",
    "    ml_client = MLClient(DefaultAzureCredential(), subscription_id, resource_group, workspace)\n",
    "    print(\"Client created from user-provided values.\")\n",
    "else:\n",
    "    print(\"Client Unchanged.\")"
   ]
  },
  {
   "attachments": {},
   "cell_type": "markdown",
   "metadata": {},
   "source": [
    "#### Create Federated Learning Silos"
   ]
  },
  {
   "cell_type": "code",
   "execution_count": 5,
   "metadata": {},
   "outputs": [
    {
     "name": "stdout",
     "output_type": "stream",
     "text": [
      "Silo list created\n"
     ]
    }
   ],
   "source": [
    "from azure.ai.ml import Input\n",
    "from azure.ai.ml.entities._assets.federated_learning_silo import FederatedLearningSilo\n",
    "\n",
    "silo_list = [\n",
    "    FederatedLearningSilo(\n",
    "        compute=silo_config[\"compute\"],\n",
    "        datastore=silo_config[\"datastore\"],\n",
    "        inputs= {\n",
    "            \"silo_name\": dict(silo_config[\"inputs\"])[\"name\"],\n",
    "            \"raw_train_data\": Input(**dict(silo_config[\"inputs\"])[\"raw_training_data\"]),\n",
    "            \"raw_test_data\": Input(**dict(silo_config[\"inputs\"])[\"raw_testing_data\"]),\n",
    "        },\n",
    "    )\n",
    "    for silo_config in YAML_CONFIG.strategy.horizontal\n",
    "]\n",
    "print(\"Silo list created\")"
   ]
  },
  {
   "attachments": {},
   "cell_type": "markdown",
   "metadata": {},
   "source": [
    "#### Create Argument Maps"
   ]
  },
  {
   "cell_type": "code",
   "execution_count": 6,
   "metadata": {},
   "outputs": [],
   "source": [
    "silo_to_aggregation_argument_map = {\"model\" : \"from_silo_input\"}\n",
    "aggregation_to_silo_argument_map = {\"aggregated_output\" : \"checkpoint\"}"
   ]
  },
  {
   "attachments": {},
   "cell_type": "markdown",
   "metadata": {},
   "source": [
    "#### Create kwarg input maps"
   ]
  },
  {
   "cell_type": "code",
   "execution_count": 7,
   "metadata": {},
   "outputs": [],
   "source": [
    "silo_kwargs = dict(YAML_CONFIG.inputs)\n",
    "agg_kwargs = {}"
   ]
  },
  {
   "attachments": {},
   "cell_type": "markdown",
   "metadata": {},
   "source": [
    "#### Create Silo subgraph"
   ]
  },
  {
   "cell_type": "code",
   "execution_count": 8,
   "metadata": {},
   "outputs": [],
   "source": [
    "@pipeline(\n",
    "    name=\"Silo Federated Learning Subgraph\",\n",
    "    description=\"It includes all steps that needs to be executing in silo\",\n",
    ")\n",
    "def silo_scatter_subgraph(\n",
    "    # user defined inputs\n",
    "    raw_train_data: Input,\n",
    "    raw_test_data: Input,\n",
    "    checkpoint: Input(optional=True),\n",
    "    silo_name: str,\n",
    "    # user defined training arguments\n",
    "    lr: float = 0.01,\n",
    "    epochs: int = 3,\n",
    "    batch_size: int = 64,\n",
    "    dp: bool = False,\n",
    "    dp_target_epsilon: float = 50.0,\n",
    "    dp_target_delta: float = 1e-5,\n",
    "    dp_max_grad_norm: float = 1.0,\n",
    ") -> dict:\n",
    "    \"\"\"Create scatter/silo subgraph.\n",
    "\n",
    "    Args:\n",
    "        raw_train_data (Input): raw train data\n",
    "        raw_test_data (Input): raw test data\n",
    "        checkpoint (Input): if not None, the checkpoint obtained from previous iteration\n",
    "        scatter_compute1 (str): Silo compute1 name\n",
    "        scatter_compute2 (str): Silo compute2 name\n",
    "        iteration_num (int): Iteration number\n",
    "        lr (float, optional): Learning rate. Defaults to 0.01.\n",
    "        epochs (int, optional): Number of epochs. Defaults to 3.\n",
    "        batch_size (int, optional): Batch size. Defaults to 64.\n",
    "        dp (bool, optional): Differential Privacy\n",
    "        dp_target_epsilon (float, optional): DP target epsilon\n",
    "        dp_target_delta (float, optional): DP target delta\n",
    "        dp_max_grad_norm (float, optional): DP max gradient norm\n",
    "        num_of_iterations (int, optional): Total number of iterations\n",
    "\n",
    "    Returns:\n",
    "        Dict[str, Outputs]: a map of the outputs\n",
    "    \"\"\"\n",
    "    # we're using our own preprocessing component\n",
    "    silo_pre_processing_step = preprocessing_component(\n",
    "        # this consumes whatever user defined inputs\n",
    "        raw_training_data=raw_train_data,\n",
    "        raw_testing_data=raw_test_data,\n",
    "        # here we're using the name of the silo compute as a metrics prefix\n",
    "        metrics_prefix=silo_name,\n",
    "    )\n",
    "\n",
    "    # # Assigning the silo's first compute to the preprocessing component\n",
    "    # silo_pre_processing_step.compute = silo_compute1\n",
    "\n",
    "    # we're using our own training component\n",
    "    silo_training_step = training_component(\n",
    "        # with the train_data from the pre_processing step\n",
    "        train_data=silo_pre_processing_step.outputs.processed_train_data,\n",
    "        # with the test_data from the pre_processing step\n",
    "        test_data=silo_pre_processing_step.outputs.processed_test_data,\n",
    "        # and the checkpoint from previous iteration (or None if iteration == 1)\n",
    "        checkpoint=checkpoint,\n",
    "        # Learning rate for local training\n",
    "        lr=lr,\n",
    "        # Number of epochs\n",
    "        epochs=epochs,\n",
    "        # Dataloader batch size\n",
    "        batch_size=batch_size,\n",
    "        # Differential Privacy\n",
    "        dp=dp,\n",
    "        # DP target epsilon\n",
    "        dp_target_epsilon=dp_target_epsilon,\n",
    "        # DP target delta\n",
    "        dp_target_delta=dp_target_delta,\n",
    "        # DP max gradient norm\n",
    "        dp_max_grad_norm=dp_max_grad_norm,\n",
    "        # Silo name/identifier\n",
    "        metrics_prefix=silo_name,\n",
    "    )\n",
    "\n",
    "    # # Assigning the silo's second compute to the training component\n",
    "    # silo_training_step.compute = silo_compute1\n",
    "\n",
    "    # IMPORTANT: we will assume that any output provided here can be exfiltrated into the orchestrator/gather\n",
    "    return {\n",
    "        # NOTE: the key you use is custom\n",
    "        # a map function scatter_to_gather_map needs to be provided\n",
    "        # to map the name here to the expected input from gather\n",
    "        \"model\": silo_training_step.outputs.model\n",
    "    }"
   ]
  },
  {
   "attachments": {},
   "cell_type": "markdown",
   "metadata": {},
   "source": [
    "### Putting it all together - Creating a Pipeline with an FLCG Node"
   ]
  },
  {
   "cell_type": "code",
   "execution_count": 10,
   "metadata": {},
   "outputs": [
    {
     "name": "stderr",
     "output_type": "stream",
     "text": [
      "Operation failed. Retrying in 1.236599640902055 seconds.\n",
      "\u001b[32mUploading _builders (0.49 MBs): 100%|##########| 485444/485444 [00:00<00:00, 905478.10it/s] \n",
      "\u001b[39m\n",
      "\n"
     ]
    },
    {
     "data": {
      "text/html": [
       "<table style=\"width:100%\"><tr><th>Experiment</th><th>Name</th><th>Type</th><th>Status</th><th>Details Page</th></tr><tr><td>example_fl_pipeline</td><td>mango_spinach_qrtmxn1h3f</td><td>pipeline</td><td>Preparing</td><td><a href=\"https://ml.azure.com/runs/mango_spinach_qrtmxn1h3f?wsid=/subscriptions/48bbc269-ce89-4f6f-9a12-c6f91fcb772d/resourcegroups/amitgarg-fldev-rg/workspaces/aml-flhe&amp;tid=72f988bf-86f1-41af-91ab-2d7cd011db47\" target=\"_blank\" rel=\"noopener\">Link to Azure Machine Learning studio</a></td></tr></table>"
      ],
      "text/plain": [
       "PipelineJob({'inputs': {}, 'outputs': {}, 'jobs': {}, 'component': PipelineComponent({'auto_increment_version': False, 'source': 'REMOTE.WORKSPACE.JOB', 'is_anonymous': True, 'name': 'azureml_anonymous', 'description': None, 'tags': {}, 'properties': {}, 'print_as_yaml': True, 'id': None, 'Resource__source_path': None, 'base_path': 'c:\\\\Users\\\\Amit Garg\\\\OneDrive - Microsoft\\\\Documents\\\\azure-samples-main-repo\\\\azure-ml-federated-learning\\\\examples\\\\pipelines\\\\fl_cross_silo_scatter_gather', 'creation_context': None, 'serialize': <msrest.serialization.Serializer object at 0x000002DFFDA59510>, 'version': '1', 'latest_version': None, 'schema': None, 'type': 'pipeline', 'display_name': 'fl_pipeline', 'is_deterministic': None, 'inputs': {}, 'outputs': {}, 'yaml_str': None, 'other_parameter': {}, 'jobs': {'silo_federated_learning_subgraph': Pipeline({'init': False, 'type': 'pipeline', 'status': None, 'log_files': None, 'name': 'silo_federated_learning_subgraph', 'description': None, 'tags': {}, 'properties': {}, 'print_as_yaml': True, 'id': None, 'Resource__source_path': None, 'base_path': 'c:\\\\Users\\\\Amit Garg\\\\OneDrive - Microsoft\\\\Documents\\\\azure-samples-main-repo\\\\azure-ml-federated-learning\\\\examples\\\\pipelines\\\\fl_cross_silo_scatter_gather', 'creation_context': None, 'serialize': <msrest.serialization.Serializer object at 0x000002DFFDA586A0>, 'allowed_keys': {}, 'key_restriction': False, 'logger': <Logger attr_dict (WARNING)>, 'display_name': None, 'experiment_name': None, 'compute': None, 'services': None, 'comment': None, 'job_inputs': {'raw_train_data': {'type': 'uri_file', 'path': 'https://azureopendatastorage.blob.core.windows.net/mnist/processed/train.csv', 'mode': 'ro_mount'}, 'raw_test_data': {'type': 'uri_file', 'path': 'https://azureopendatastorage.blob.core.windows.net/mnist/processed/t10k.csv', 'mode': 'ro_mount'}, 'silo_name': 'silo0', 'lr': '0.01', 'epochs': '3', 'batch_size': '64', 'dp': 'False', 'dp_target_epsilon': '50.0', 'dp_target_delta': '1e-05', 'dp_max_grad_norm': '1.0'}, 'job_outputs': {'model': {'type': 'uri_folder', 'path': 'azureml://datastores/datastore_silo0/paths/federated_learning/model/${{name}}/', 'mode': 'rw_mount'}}, 'inputs': {'raw_train_data': <azure.ai.ml.entities._job.pipeline._io.base.NodeInput object at 0x000002DFFDA5A4A0>, 'raw_test_data': <azure.ai.ml.entities._job.pipeline._io.base.NodeInput object at 0x000002DFFDA59CC0>, 'silo_name': <azure.ai.ml.entities._job.pipeline._io.base.NodeInput object at 0x000002DFFDA5AEC0>, 'lr': <azure.ai.ml.entities._job.pipeline._io.base.NodeInput object at 0x000002DFFDA5BE20>, 'epochs': <azure.ai.ml.entities._job.pipeline._io.base.NodeInput object at 0x000002DFFDA59F60>, 'batch_size': <azure.ai.ml.entities._job.pipeline._io.base.NodeInput object at 0x000002DFFDA5B670>, 'dp': <azure.ai.ml.entities._job.pipeline._io.base.NodeInput object at 0x000002DFFDA58970>, 'dp_target_epsilon': <azure.ai.ml.entities._job.pipeline._io.base.NodeInput object at 0x000002DFFDA5B460>, 'dp_target_delta': <azure.ai.ml.entities._job.pipeline._io.base.NodeInput object at 0x000002DFFDA59E10>, 'dp_max_grad_norm': <azure.ai.ml.entities._job.pipeline._io.base.NodeInput object at 0x000002DFFDA59F00>}, 'outputs': {'model': <azure.ai.ml.entities._job.pipeline._io.base.NodeOutput object at 0x000002DFFDA58F40>}, 'component': 'azureml_anonymous:faa64435-9bb0-4019-9e17-e267a955089e', 'referenced_control_flow_node_instance_id': None, 'kwargs': {}, 'instance_id': '2eac0c16-a837-4592-b0d4-093182c8da95', 'source': 'REMOTE.WORKSPACE.COMPONENT', 'validate_required_input_not_provided': True, 'settings': None}), 'silo_federated_learning_subgraph_1': Pipeline({'init': False, 'type': 'pipeline', 'status': None, 'log_files': None, 'name': 'silo_federated_learning_subgraph_1', 'description': None, 'tags': {}, 'properties': {}, 'print_as_yaml': True, 'id': None, 'Resource__source_path': None, 'base_path': 'c:\\\\Users\\\\Amit Garg\\\\OneDrive - Microsoft\\\\Documents\\\\azure-samples-main-repo\\\\azure-ml-federated-learning\\\\examples\\\\pipelines\\\\fl_cross_silo_scatter_gather', 'creation_context': None, 'serialize': <msrest.serialization.Serializer object at 0x000002DFFDA58730>, 'allowed_keys': {}, 'key_restriction': False, 'logger': <Logger attr_dict (WARNING)>, 'display_name': None, 'experiment_name': None, 'compute': None, 'services': None, 'comment': None, 'job_inputs': {'raw_train_data': {'type': 'uri_file', 'path': 'https://azureopendatastorage.blob.core.windows.net/mnist/processed/train.csv', 'mode': 'ro_mount'}, 'raw_test_data': {'type': 'uri_file', 'path': 'https://azureopendatastorage.blob.core.windows.net/mnist/processed/t10k.csv', 'mode': 'ro_mount'}, 'silo_name': 'silo1', 'lr': '0.01', 'epochs': '3', 'batch_size': '64', 'dp': 'False', 'dp_target_epsilon': '50.0', 'dp_target_delta': '1e-05', 'dp_max_grad_norm': '1.0'}, 'job_outputs': {'model': {'type': 'uri_folder', 'path': 'azureml://datastores/datastore_silo1/paths/federated_learning/model/${{name}}/', 'mode': 'rw_mount'}}, 'inputs': {'raw_train_data': <azure.ai.ml.entities._job.pipeline._io.base.NodeInput object at 0x000002DFFDA5BDF0>, 'raw_test_data': <azure.ai.ml.entities._job.pipeline._io.base.NodeInput object at 0x000002DFFDA5BFA0>, 'silo_name': <azure.ai.ml.entities._job.pipeline._io.base.NodeInput object at 0x000002DFFDA5B520>, 'lr': <azure.ai.ml.entities._job.pipeline._io.base.NodeInput object at 0x000002DFFDA588E0>, 'epochs': <azure.ai.ml.entities._job.pipeline._io.base.NodeInput object at 0x000002DFFDA5BAF0>, 'batch_size': <azure.ai.ml.entities._job.pipeline._io.base.NodeInput object at 0x000002DFFDA5B9D0>, 'dp': <azure.ai.ml.entities._job.pipeline._io.base.NodeInput object at 0x000002DFFDA58BB0>, 'dp_target_epsilon': <azure.ai.ml.entities._job.pipeline._io.base.NodeInput object at 0x000002DFFDA5B940>, 'dp_target_delta': <azure.ai.ml.entities._job.pipeline._io.base.NodeInput object at 0x000002DFFDA5AE60>, 'dp_max_grad_norm': <azure.ai.ml.entities._job.pipeline._io.base.NodeInput object at 0x000002DFFDA59C00>}, 'outputs': {'model': <azure.ai.ml.entities._job.pipeline._io.base.NodeOutput object at 0x000002DFFDA5A9B0>}, 'component': 'azureml_anonymous:7266de8d-c050-4486-b8bb-9650c46bb1c1', 'referenced_control_flow_node_instance_id': None, 'kwargs': {}, 'instance_id': '6d4d4111-10cd-4edc-80b7-9365f0df9780', 'source': 'REMOTE.WORKSPACE.COMPONENT', 'validate_required_input_not_provided': True, 'settings': None}), 'silo_federated_learning_subgraph_2': Pipeline({'init': False, 'type': 'pipeline', 'status': None, 'log_files': None, 'name': 'silo_federated_learning_subgraph_2', 'description': None, 'tags': {}, 'properties': {}, 'print_as_yaml': True, 'id': None, 'Resource__source_path': None, 'base_path': 'c:\\\\Users\\\\Amit Garg\\\\OneDrive - Microsoft\\\\Documents\\\\azure-samples-main-repo\\\\azure-ml-federated-learning\\\\examples\\\\pipelines\\\\fl_cross_silo_scatter_gather', 'creation_context': None, 'serialize': <msrest.serialization.Serializer object at 0x000002DFFDA58E80>, 'allowed_keys': {}, 'key_restriction': False, 'logger': <Logger attr_dict (WARNING)>, 'display_name': None, 'experiment_name': None, 'compute': None, 'services': None, 'comment': None, 'job_inputs': {'raw_train_data': {'type': 'uri_file', 'path': 'https://azureopendatastorage.blob.core.windows.net/mnist/processed/train.csv', 'mode': 'ro_mount'}, 'raw_test_data': {'type': 'uri_file', 'path': 'https://azureopendatastorage.blob.core.windows.net/mnist/processed/t10k.csv', 'mode': 'ro_mount'}, 'silo_name': 'silo2', 'lr': '0.01', 'epochs': '3', 'batch_size': '64', 'dp': 'False', 'dp_target_epsilon': '50.0', 'dp_target_delta': '1e-05', 'dp_max_grad_norm': '1.0'}, 'job_outputs': {'model': {'type': 'uri_folder', 'path': 'azureml://datastores/datastore_silo2/paths/federated_learning/model/${{name}}/', 'mode': 'rw_mount'}}, 'inputs': {'raw_train_data': <azure.ai.ml.entities._job.pipeline._io.base.NodeInput object at 0x000002DFFDA5ADA0>, 'raw_test_data': <azure.ai.ml.entities._job.pipeline._io.base.NodeInput object at 0x000002DFFDA59000>, 'silo_name': <azure.ai.ml.entities._job.pipeline._io.base.NodeInput object at 0x000002DFFDA59780>, 'lr': <azure.ai.ml.entities._job.pipeline._io.base.NodeInput object at 0x000002DFFDA59150>, 'epochs': <azure.ai.ml.entities._job.pipeline._io.base.NodeInput object at 0x000002DFFDA59270>, 'batch_size': <azure.ai.ml.entities._job.pipeline._io.base.NodeInput object at 0x000002DFFDA59480>, 'dp': <azure.ai.ml.entities._job.pipeline._io.base.NodeInput object at 0x000002DFFDA58D60>, 'dp_target_epsilon': <azure.ai.ml.entities._job.pipeline._io.base.NodeInput object at 0x000002DFFDA591E0>, 'dp_target_delta': <azure.ai.ml.entities._job.pipeline._io.base.NodeInput object at 0x000002DFFDA5B760>, 'dp_max_grad_norm': <azure.ai.ml.entities._job.pipeline._io.base.NodeInput object at 0x000002DFFDA58D30>}, 'outputs': {'model': <azure.ai.ml.entities._job.pipeline._io.base.NodeOutput object at 0x000002DFFDA593F0>}, 'component': 'azureml_anonymous:e7a4b8f0-ae2b-404d-b2b5-c5f639c24af4', 'referenced_control_flow_node_instance_id': None, 'kwargs': {}, 'instance_id': 'eb88d367-c222-4296-85a5-3d4fa1b39e21', 'source': 'REMOTE.WORKSPACE.COMPONENT', 'validate_required_input_not_provided': True, 'settings': None}), 'aggregate_output': Command({'parameters': {}, 'init': False, 'type': 'command', 'status': None, 'log_files': None, 'name': 'aggregate_output', 'description': None, 'tags': {}, 'properties': {}, 'print_as_yaml': True, 'id': None, 'Resource__source_path': None, 'base_path': 'c:\\\\Users\\\\Amit Garg\\\\OneDrive - Microsoft\\\\Documents\\\\azure-samples-main-repo\\\\azure-ml-federated-learning\\\\examples\\\\pipelines\\\\fl_cross_silo_scatter_gather', 'creation_context': None, 'serialize': <msrest.serialization.Serializer object at 0x000002DFFDA58E50>, 'allowed_keys': {}, 'key_restriction': False, 'logger': <Logger attr_dict (WARNING)>, 'display_name': None, 'experiment_name': None, 'compute': 'orchestrator-01', 'services': None, 'comment': None, 'job_inputs': {'model_silo_0': {'type': 'uri_folder', 'path': '${{parent.jobs.silo_federated_learning_subgraph.outputs.model}}', 'mode': 'direct'}, 'model_silo_1': {'type': 'uri_folder', 'path': '${{parent.jobs.silo_federated_learning_subgraph_1.outputs.model}}', 'mode': 'direct'}, 'model_silo_2': {'type': 'uri_folder', 'path': '${{parent.jobs.silo_federated_learning_subgraph_2.outputs.model}}', 'mode': 'direct'}}, 'job_outputs': {}, 'inputs': {'model_silo_0': <azure.ai.ml.entities._job.pipeline._io.base.NodeInput object at 0x000002DFFDA596F0>, 'model_silo_1': <azure.ai.ml.entities._job.pipeline._io.base.NodeInput object at 0x000002DFFDA58520>, 'model_silo_2': <azure.ai.ml.entities._job.pipeline._io.base.NodeInput object at 0x000002DFFDA58FD0>}, 'outputs': {}, 'component': 'azureml_anonymous:90280803-000a-4e8f-a475-690ba147747e', 'referenced_control_flow_node_instance_id': None, 'kwargs': {'services': None}, 'instance_id': '170bb79a-1f19-46ca-93d3-05ef771d298d', 'source': 'REMOTE.WORKSPACE.COMPONENT', 'validate_required_input_not_provided': True, 'limits': None, 'identity': None, 'distribution': None, 'environment_variables': {}, 'environment': None, 'resources': None, 'swept': False}), 'aggregate_model_weights': Command({'parameters': {}, 'init': False, 'type': 'command', 'status': None, 'log_files': None, 'name': 'aggregate_model_weights', 'description': None, 'tags': {}, 'properties': {}, 'print_as_yaml': True, 'id': None, 'Resource__source_path': None, 'base_path': 'c:\\\\Users\\\\Amit Garg\\\\OneDrive - Microsoft\\\\Documents\\\\azure-samples-main-repo\\\\azure-ml-federated-learning\\\\examples\\\\pipelines\\\\fl_cross_silo_scatter_gather', 'creation_context': None, 'serialize': <msrest.serialization.Serializer object at 0x000002DFFDA5B040>, 'allowed_keys': {}, 'key_restriction': False, 'logger': <Logger attr_dict (WARNING)>, 'display_name': None, 'experiment_name': None, 'compute': 'orchestrator-01', 'services': None, 'comment': None, 'job_inputs': {'from_silo_input': {'type': 'uri_folder', 'path': '${{parent.jobs.aggregate_output.outputs.aggregated_output}}', 'mode': 'eval_download'}}, 'job_outputs': {'aggregated_output': {'type': 'uri_folder', 'path': 'azureml://datastores/datastore_orchestrator/paths/federated_learning/aggregated_output/${{name}}/', 'mode': 'rw_mount'}}, 'inputs': {'from_silo_input': <azure.ai.ml.entities._job.pipeline._io.base.NodeInput object at 0x000002DFFDA58F10>}, 'outputs': {'aggregated_output': <azure.ai.ml.entities._job.pipeline._io.base.NodeOutput object at 0x000002DFFDA59750>}, 'component': 'azureml_anonymous:80036d70-6d5d-4953-a10f-fa629850014d', 'referenced_control_flow_node_instance_id': None, 'kwargs': {'services': None}, 'instance_id': 'a43e21ab-b619-4cf9-ad66-0f4dca0adfd2', 'source': 'REMOTE.WORKSPACE.COMPONENT', 'validate_required_input_not_provided': True, 'limits': None, 'identity': None, 'distribution': None, 'environment_variables': {}, 'environment': None, 'resources': None, 'swept': False}), 'silo_federated_learning_subgraph_3': Pipeline({'init': False, 'type': 'pipeline', 'status': None, 'log_files': None, 'name': 'silo_federated_learning_subgraph_3', 'description': None, 'tags': {}, 'properties': {}, 'print_as_yaml': True, 'id': None, 'Resource__source_path': None, 'base_path': 'c:\\\\Users\\\\Amit Garg\\\\OneDrive - Microsoft\\\\Documents\\\\azure-samples-main-repo\\\\azure-ml-federated-learning\\\\examples\\\\pipelines\\\\fl_cross_silo_scatter_gather', 'creation_context': None, 'serialize': <msrest.serialization.Serializer object at 0x000002DFFDA5B6A0>, 'allowed_keys': {}, 'key_restriction': False, 'logger': <Logger attr_dict (WARNING)>, 'display_name': None, 'experiment_name': None, 'compute': None, 'services': None, 'comment': None, 'job_inputs': {'raw_train_data': {'type': 'uri_file', 'path': 'https://azureopendatastorage.blob.core.windows.net/mnist/processed/train.csv', 'mode': 'ro_mount'}, 'raw_test_data': {'type': 'uri_file', 'path': 'https://azureopendatastorage.blob.core.windows.net/mnist/processed/t10k.csv', 'mode': 'ro_mount'}, 'silo_name': 'silo0', 'lr': '0.01', 'epochs': '3', 'batch_size': '64', 'dp': 'False', 'dp_target_epsilon': '50.0', 'dp_target_delta': '1e-05', 'dp_max_grad_norm': '1.0', 'checkpoint': '${{parent.jobs.aggregate_model_weights.outputs.aggregated_output}}'}, 'job_outputs': {'model': {'type': 'uri_folder', 'path': 'azureml://datastores/datastore_silo0/paths/federated_learning/model/${{name}}/', 'mode': 'rw_mount'}}, 'inputs': {'raw_train_data': <azure.ai.ml.entities._job.pipeline._io.base.NodeInput object at 0x000002DFFDA5BA90>, 'raw_test_data': <azure.ai.ml.entities._job.pipeline._io.base.NodeInput object at 0x000002DFFDA5B4C0>, 'silo_name': <azure.ai.ml.entities._job.pipeline._io.base.NodeInput object at 0x000002DFFDA58B80>, 'lr': <azure.ai.ml.entities._job.pipeline._io.base.NodeInput object at 0x000002DFFDA5AEF0>, 'epochs': <azure.ai.ml.entities._job.pipeline._io.base.NodeInput object at 0x000002DFFDA5A230>, 'batch_size': <azure.ai.ml.entities._job.pipeline._io.base.NodeInput object at 0x000002DFFDA5AE90>, 'dp': <azure.ai.ml.entities._job.pipeline._io.base.NodeInput object at 0x000002DFFDA591B0>, 'dp_target_epsilon': <azure.ai.ml.entities._job.pipeline._io.base.NodeInput object at 0x000002DFFDA5AF50>, 'dp_target_delta': <azure.ai.ml.entities._job.pipeline._io.base.NodeInput object at 0x000002DFFDA5B640>, 'dp_max_grad_norm': <azure.ai.ml.entities._job.pipeline._io.base.NodeInput object at 0x000002DFFDA5ADD0>, 'checkpoint': <azure.ai.ml.entities._job.pipeline._io.base.NodeInput object at 0x000002DFFDA58EB0>}, 'outputs': {'model': <azure.ai.ml.entities._job.pipeline._io.base.NodeOutput object at 0x000002DFFDA59390>}, 'component': 'azureml_anonymous:faa64435-9bb0-4019-9e17-e267a955089e', 'referenced_control_flow_node_instance_id': None, 'kwargs': {}, 'instance_id': 'af8e1f4b-632a-4e58-9d9f-cb8d7ae3ff47', 'source': 'REMOTE.WORKSPACE.COMPONENT', 'validate_required_input_not_provided': True, 'settings': None}), 'silo_federated_learning_subgraph_4': Pipeline({'init': False, 'type': 'pipeline', 'status': None, 'log_files': None, 'name': 'silo_federated_learning_subgraph_4', 'description': None, 'tags': {}, 'properties': {}, 'print_as_yaml': True, 'id': None, 'Resource__source_path': None, 'base_path': 'c:\\\\Users\\\\Amit Garg\\\\OneDrive - Microsoft\\\\Documents\\\\azure-samples-main-repo\\\\azure-ml-federated-learning\\\\examples\\\\pipelines\\\\fl_cross_silo_scatter_gather', 'creation_context': None, 'serialize': <msrest.serialization.Serializer object at 0x000002DFFDA58D90>, 'allowed_keys': {}, 'key_restriction': False, 'logger': <Logger attr_dict (WARNING)>, 'display_name': None, 'experiment_name': None, 'compute': None, 'services': None, 'comment': None, 'job_inputs': {'raw_train_data': {'type': 'uri_file', 'path': 'https://azureopendatastorage.blob.core.windows.net/mnist/processed/train.csv', 'mode': 'ro_mount'}, 'raw_test_data': {'type': 'uri_file', 'path': 'https://azureopendatastorage.blob.core.windows.net/mnist/processed/t10k.csv', 'mode': 'ro_mount'}, 'silo_name': 'silo1', 'lr': '0.01', 'epochs': '3', 'batch_size': '64', 'dp': 'False', 'dp_target_epsilon': '50.0', 'dp_target_delta': '1e-05', 'dp_max_grad_norm': '1.0', 'checkpoint': '${{parent.jobs.aggregate_model_weights.outputs.aggregated_output}}'}, 'job_outputs': {'model': {'type': 'uri_folder', 'path': 'azureml://datastores/datastore_silo1/paths/federated_learning/model/${{name}}/', 'mode': 'rw_mount'}}, 'inputs': {'raw_train_data': <azure.ai.ml.entities._job.pipeline._io.base.NodeInput object at 0x000002DFFDA5BBB0>, 'raw_test_data': <azure.ai.ml.entities._job.pipeline._io.base.NodeInput object at 0x000002DFFDA5B1F0>, 'silo_name': <azure.ai.ml.entities._job.pipeline._io.base.NodeInput object at 0x000002DFFDA5ACB0>, 'lr': <azure.ai.ml.entities._job.pipeline._io.base.NodeInput object at 0x000002DFFDA5B490>, 'epochs': <azure.ai.ml.entities._job.pipeline._io.base.NodeInput object at 0x000002DFFDA5A050>, 'batch_size': <azure.ai.ml.entities._job.pipeline._io.base.NodeInput object at 0x000002DFFDA5BA60>, 'dp': <azure.ai.ml.entities._job.pipeline._io.base.NodeInput object at 0x000002DFFDA59F30>, 'dp_target_epsilon': <azure.ai.ml.entities._job.pipeline._io.base.NodeInput object at 0x000002DFFDA5B190>, 'dp_target_delta': <azure.ai.ml.entities._job.pipeline._io.base.NodeInput object at 0x000002DFFDA597E0>, 'dp_max_grad_norm': <azure.ai.ml.entities._job.pipeline._io.base.NodeInput object at 0x000002DFFDA58640>, 'checkpoint': <azure.ai.ml.entities._job.pipeline._io.base.NodeInput object at 0x000002DFFDA5BF70>}, 'outputs': {'model': <azure.ai.ml.entities._job.pipeline._io.base.NodeOutput object at 0x000002DFFDA584F0>}, 'component': 'azureml_anonymous:7266de8d-c050-4486-b8bb-9650c46bb1c1', 'referenced_control_flow_node_instance_id': None, 'kwargs': {}, 'instance_id': '39e9f7ab-6eeb-4eb4-90d3-e12fb2a6180f', 'source': 'REMOTE.WORKSPACE.COMPONENT', 'validate_required_input_not_provided': True, 'settings': None}), 'silo_federated_learning_subgraph_5': Pipeline({'init': False, 'type': 'pipeline', 'status': None, 'log_files': None, 'name': 'silo_federated_learning_subgraph_5', 'description': None, 'tags': {}, 'properties': {}, 'print_as_yaml': True, 'id': None, 'Resource__source_path': None, 'base_path': 'c:\\\\Users\\\\Amit Garg\\\\OneDrive - Microsoft\\\\Documents\\\\azure-samples-main-repo\\\\azure-ml-federated-learning\\\\examples\\\\pipelines\\\\fl_cross_silo_scatter_gather', 'creation_context': None, 'serialize': <msrest.serialization.Serializer object at 0x000002DFFDA58820>, 'allowed_keys': {}, 'key_restriction': False, 'logger': <Logger attr_dict (WARNING)>, 'display_name': None, 'experiment_name': None, 'compute': None, 'services': None, 'comment': None, 'job_inputs': {'raw_train_data': {'type': 'uri_file', 'path': 'https://azureopendatastorage.blob.core.windows.net/mnist/processed/train.csv', 'mode': 'ro_mount'}, 'raw_test_data': {'type': 'uri_file', 'path': 'https://azureopendatastorage.blob.core.windows.net/mnist/processed/t10k.csv', 'mode': 'ro_mount'}, 'silo_name': 'silo2', 'lr': '0.01', 'epochs': '3', 'batch_size': '64', 'dp': 'False', 'dp_target_epsilon': '50.0', 'dp_target_delta': '1e-05', 'dp_max_grad_norm': '1.0', 'checkpoint': '${{parent.jobs.aggregate_model_weights.outputs.aggregated_output}}'}, 'job_outputs': {'model': {'type': 'uri_folder', 'path': 'azureml://datastores/datastore_silo2/paths/federated_learning/model/${{name}}/', 'mode': 'rw_mount'}}, 'inputs': {'raw_train_data': <azure.ai.ml.entities._job.pipeline._io.base.NodeInput object at 0x000002DFFDA59B10>, 'raw_test_data': <azure.ai.ml.entities._job.pipeline._io.base.NodeInput object at 0x000002DFFDA59B70>, 'silo_name': <azure.ai.ml.entities._job.pipeline._io.base.NodeInput object at 0x000002DFFDA59AB0>, 'lr': <azure.ai.ml.entities._job.pipeline._io.base.NodeInput object at 0x000002DFFDA58AF0>, 'epochs': <azure.ai.ml.entities._job.pipeline._io.base.NodeInput object at 0x000002DFFDA58A00>, 'batch_size': <azure.ai.ml.entities._job.pipeline._io.base.NodeInput object at 0x000002DFFDA59A80>, 'dp': <azure.ai.ml.entities._job.pipeline._io.base.NodeInput object at 0x000002DFFDA58A30>, 'dp_target_epsilon': <azure.ai.ml.entities._job.pipeline._io.base.NodeInput object at 0x000002DFFDA59C90>, 'dp_target_delta': <azure.ai.ml.entities._job.pipeline._io.base.NodeInput object at 0x000002DFFDA59870>, 'dp_max_grad_norm': <azure.ai.ml.entities._job.pipeline._io.base.NodeInput object at 0x000002DFFDA58460>, 'checkpoint': <azure.ai.ml.entities._job.pipeline._io.base.NodeInput object at 0x000002DFFDA59A20>}, 'outputs': {'model': <azure.ai.ml.entities._job.pipeline._io.base.NodeOutput object at 0x000002DFFDA58A90>}, 'component': 'azureml_anonymous:e7a4b8f0-ae2b-404d-b2b5-c5f639c24af4', 'referenced_control_flow_node_instance_id': None, 'kwargs': {}, 'instance_id': 'c01dd9d3-851a-4c32-bcd0-7c98830ff30e', 'source': 'REMOTE.WORKSPACE.COMPONENT', 'validate_required_input_not_provided': True, 'settings': None}), 'aggregate_output_1': Command({'parameters': {}, 'init': False, 'type': 'command', 'status': None, 'log_files': None, 'name': 'aggregate_output_1', 'description': None, 'tags': {}, 'properties': {}, 'print_as_yaml': True, 'id': None, 'Resource__source_path': None, 'base_path': 'c:\\\\Users\\\\Amit Garg\\\\OneDrive - Microsoft\\\\Documents\\\\azure-samples-main-repo\\\\azure-ml-federated-learning\\\\examples\\\\pipelines\\\\fl_cross_silo_scatter_gather', 'creation_context': None, 'serialize': <msrest.serialization.Serializer object at 0x000002DFFDA59090>, 'allowed_keys': {}, 'key_restriction': False, 'logger': <Logger attr_dict (WARNING)>, 'display_name': None, 'experiment_name': None, 'compute': 'orchestrator-01', 'services': None, 'comment': None, 'job_inputs': {'model_silo_0': {'type': 'uri_folder', 'path': '${{parent.jobs.silo_federated_learning_subgraph_3.outputs.model}}', 'mode': 'direct'}, 'model_silo_1': {'type': 'uri_folder', 'path': '${{parent.jobs.silo_federated_learning_subgraph_4.outputs.model}}', 'mode': 'direct'}, 'model_silo_2': {'type': 'uri_folder', 'path': '${{parent.jobs.silo_federated_learning_subgraph_5.outputs.model}}', 'mode': 'direct'}}, 'job_outputs': {}, 'inputs': {'model_silo_0': <azure.ai.ml.entities._job.pipeline._io.base.NodeInput object at 0x000002DFFDA5BCA0>, 'model_silo_1': <azure.ai.ml.entities._job.pipeline._io.base.NodeInput object at 0x000002DFFDA59450>, 'model_silo_2': <azure.ai.ml.entities._job.pipeline._io.base.NodeInput object at 0x000002DFFDA5BC40>}, 'outputs': {}, 'component': 'azureml_anonymous:90280803-000a-4e8f-a475-690ba147747e', 'referenced_control_flow_node_instance_id': None, 'kwargs': {'services': None}, 'instance_id': '8f688d2b-1894-4f19-9c25-4c3f33be1d18', 'source': 'REMOTE.WORKSPACE.COMPONENT', 'validate_required_input_not_provided': True, 'limits': None, 'identity': None, 'distribution': None, 'environment_variables': {}, 'environment': None, 'resources': None, 'swept': False}), 'aggregate_model_weights_1': Command({'parameters': {}, 'init': False, 'type': 'command', 'status': None, 'log_files': None, 'name': 'aggregate_model_weights_1', 'description': None, 'tags': {}, 'properties': {}, 'print_as_yaml': True, 'id': None, 'Resource__source_path': None, 'base_path': 'c:\\\\Users\\\\Amit Garg\\\\OneDrive - Microsoft\\\\Documents\\\\azure-samples-main-repo\\\\azure-ml-federated-learning\\\\examples\\\\pipelines\\\\fl_cross_silo_scatter_gather', 'creation_context': None, 'serialize': <msrest.serialization.Serializer object at 0x000002DFFDA5BD60>, 'allowed_keys': {}, 'key_restriction': False, 'logger': <Logger attr_dict (WARNING)>, 'display_name': None, 'experiment_name': None, 'compute': 'orchestrator-01', 'services': None, 'comment': None, 'job_inputs': {'from_silo_input': {'type': 'uri_folder', 'path': '${{parent.jobs.aggregate_output_1.outputs.aggregated_output}}', 'mode': 'eval_download'}}, 'job_outputs': {'aggregated_output': {'type': 'uri_folder', 'path': 'azureml://datastores/datastore_orchestrator/paths/federated_learning/aggregated_output/${{name}}/', 'mode': 'rw_mount'}}, 'inputs': {'from_silo_input': <azure.ai.ml.entities._job.pipeline._io.base.NodeInput object at 0x000002DFFDA5BD30>}, 'outputs': {'aggregated_output': <azure.ai.ml.entities._job.pipeline._io.base.NodeOutput object at 0x000002DFFDA587C0>}, 'component': 'azureml_anonymous:80036d70-6d5d-4953-a10f-fa629850014d', 'referenced_control_flow_node_instance_id': None, 'kwargs': {'services': None}, 'instance_id': '12ccc568-058d-494d-8745-7b0a79accba8', 'source': 'REMOTE.WORKSPACE.COMPONENT', 'validate_required_input_not_provided': True, 'limits': None, 'identity': None, 'distribution': None, 'environment_variables': {}, 'environment': None, 'resources': None, 'swept': False})}, 'job_types': {'pipeline': 6, 'command': 4}, 'job_sources': {'REMOTE.WORKSPACE.COMPONENT': 10}, 'source_job_id': None}), 'type': 'pipeline', 'status': 'Preparing', 'log_files': None, 'name': 'mango_spinach_qrtmxn1h3f', 'description': None, 'tags': {}, 'properties': {'mlflow.source.git.repoURL': 'https://github.com/Azure-Samples/azure-ml-federated-learning.git', 'mlflow.source.git.branch': 'gargamit/fl_sdk_contract', 'mlflow.source.git.commit': 'e600ae2cffe5ae70fda73e62bbdb24a3ad2814bc', 'azureml.git.dirty': 'True', 'azureml.DevPlatv2': 'true', 'azureml.runsource': 'azureml.PipelineRun', 'runSource': 'MFE', 'runType': 'HTTP', 'azureml.parameters': '{}', 'azureml.continue_on_step_failure': 'False', 'azureml.continue_on_failed_optional_input': 'True', 'azureml.defaultComputeName': 'orchestrator-01', 'azureml.defaultDataStoreName': 'workspaceblobstore', 'azureml.pipelineComponent': 'pipelinerun'}, 'print_as_yaml': True, 'id': '/subscriptions/48bbc269-ce89-4f6f-9a12-c6f91fcb772d/resourceGroups/amitgarg-fldev-rg/providers/Microsoft.MachineLearningServices/workspaces/aml-flhe/jobs/mango_spinach_qrtmxn1h3f', 'Resource__source_path': None, 'base_path': 'c:\\\\Users\\\\Amit Garg\\\\OneDrive - Microsoft\\\\Documents\\\\azure-samples-main-repo\\\\azure-ml-federated-learning\\\\examples\\\\pipelines\\\\fl_cross_silo_scatter_gather', 'creation_context': <azure.ai.ml.entities._system_data.SystemData object at 0x000002DFFDA59600>, 'serialize': <msrest.serialization.Serializer object at 0x000002DFFDA58850>, 'display_name': 'fl_pipeline', 'experiment_name': 'example_fl_pipeline', 'compute': None, 'services': {'Tracking': <azure.ai.ml.entities._job.job_service.JobService object at 0x000002DFFDA595D0>, 'Studio': <azure.ai.ml.entities._job.job_service.JobService object at 0x000002DFFDA595A0>}, 'settings': {}, 'identity': None, 'default_code': None, 'default_environment': None})"
      ]
     },
     "execution_count": 10,
     "metadata": {},
     "output_type": "execute_result"
    }
   ],
   "source": [
    "from azure.ai.ml.dsl import pipeline\n",
    "import azure.ai.ml.dsl._fl_scatter_gather_node as fl\n",
    "from azure.ai.ml.entities._credentials import UserIdentityConfiguration\n",
    "\n",
    "\n",
    "iterations = 2 # arbitrary value set for example\n",
    "@pipeline(default_compute=YAML_CONFIG.orchestrator.compute)\n",
    "def fl_pipeline():\n",
    "    fl_node = fl.fl_scatter_gather(\n",
    "        silo_configs=silo_list,\n",
    "        silo_component=silo_scatter_subgraph,\n",
    "        aggregation_component=aggregate_component,\n",
    "        aggregation_compute=YAML_CONFIG.orchestrator.compute,\n",
    "        aggregation_datastore=YAML_CONFIG.orchestrator.datastore,\n",
    "        shared_silo_kwargs=silo_kwargs,\n",
    "        aggregation_kwargs=agg_kwargs,\n",
    "        silo_to_aggregation_argument_map=silo_to_aggregation_argument_map,\n",
    "        aggregation_to_silo_argument_map=aggregation_to_silo_argument_map,\n",
    "        max_iterations=iterations, \n",
    "    )\n",
    "    # NOTE: If you wish to examine the client-side subgraph, uncomment the following line (warning: large output)\n",
    "    # print(fl_node.subgraph)\n",
    "\n",
    "fl_pipeline_job = fl_pipeline()\n",
    "# fl_pipeline_job.identity = UserIdentityConfiguration()\n",
    "fl_pipeline_job = ml_client.jobs.create_or_update(fl_pipeline_job, experiment_name=\"example_fl_pipeline\")\n",
    "fl_pipeline_job"
   ]
  }
 ],
 "metadata": {
  "kernelspec": {
   "display_name": "fl_sdk_test",
   "language": "python",
   "name": "python3"
  },
  "language_info": {
   "codemirror_mode": {
    "name": "ipython",
    "version": 3
   },
   "file_extension": ".py",
   "mimetype": "text/x-python",
   "name": "python",
   "nbconvert_exporter": "python",
   "pygments_lexer": "ipython3",
   "version": "3.10.9"
  },
  "orig_nbformat": 4,
  "vscode": {
   "interpreter": {
    "hash": "8fd1569a76b7ca3eba0da9e0ecbed98cdf9c274b2525be53134564ec5983f107"
   }
  }
 },
 "nbformat": 4,
 "nbformat_minor": 2
}
