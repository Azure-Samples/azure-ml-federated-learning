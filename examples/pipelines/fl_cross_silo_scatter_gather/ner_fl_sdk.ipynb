{
 "cells": [
  {
   "attachments": {},
   "cell_type": "markdown",
   "metadata": {},
   "source": [
    "### Using the experimental FL Scatter-Gather DSL Node to submit the HELLOWORLD example "
   ]
  },
  {
   "attachments": {},
   "cell_type": "markdown",
   "metadata": {},
   "source": [
    "### Requirements"
   ]
  },
  {
   "attachments": {},
   "cell_type": "markdown",
   "metadata": {},
   "source": [
    "Create AML resources by following this tutorial: \n",
    "https://github.com/Azure-Samples/azure-ml-federated-learning/blob/main/docs/quickstart.md"
   ]
  },
  {
   "attachments": {},
   "cell_type": "markdown",
   "metadata": {},
   "source": [
    "##### Import libraries"
   ]
  },
  {
   "cell_type": "code",
   "execution_count": 9,
   "metadata": {},
   "outputs": [],
   "source": [
    "import os\n",
    "os.environ[\"AZURE_ML_CLI_PRIVATE_FEATURES_ENABLED\"] = \"True\""
   ]
  },
  {
   "cell_type": "code",
   "execution_count": 10,
   "metadata": {},
   "outputs": [],
   "source": [
    "import os\n",
    "import argparse\n",
    "import random\n",
    "import string\n",
    "import datetime\n",
    "import webbrowser\n",
    "import time\n",
    "import json\n",
    "import sys\n",
    "\n",
    "# Azure ML sdk v2 imports\n",
    "import azure\n",
    "from azure.identity import DefaultAzureCredential, InteractiveBrowserCredential\n",
    "from azure.ai.ml import MLClient, Input, Output\n",
    "from azure.ai.ml.constants import AssetTypes\n",
    "from azure.ai.ml.dsl import pipeline\n",
    "from azure.ai.ml import load_component\n",
    "\n",
    "# to handle yaml config easily\n",
    "from omegaconf import OmegaConf"
   ]
  },
  {
   "attachments": {},
   "cell_type": "markdown",
   "metadata": {},
   "source": [
    "#### Load components"
   ]
  },
  {
   "attachments": {},
   "cell_type": "markdown",
   "metadata": {},
   "source": [
    "### Pneumonia"
   ]
  },
  {
   "cell_type": "code",
   "execution_count": 11,
   "metadata": {},
   "outputs": [],
   "source": [
    "YAML_CONFIG = OmegaConf.load(r\"C:\\Users\\Amit Garg\\OneDrive - Microsoft\\Documents\\azure-samples-main-repo\\azure-ml-federated-learning\\examples\\pipelines\\ner\\config.yaml\")\n",
    "# path to the components\n",
    "COMPONENTS_FOLDER = os.path.join(\n",
    "    \"./\", \"..\", \"..\", \"components\", \"NER\"\n",
    ")\n",
    "\n",
    "# path to the shared components\n",
    "SHARED_COMPONENTS_FOLDER = os.path.join(\n",
    "    \"./\", \"..\", \"..\", \"components\", \"utils\"\n",
    ")\n",
    "\n",
    "\n",
    "preprocessing_component = load_component(\n",
    "    source=os.path.join(COMPONENTS_FOLDER, \"preprocessing\", \"spec.yaml\")\n",
    ")\n",
    "\n",
    "training_component = load_component(\n",
    "    source=os.path.join(COMPONENTS_FOLDER, \"traininsilo\", \"spec.yaml\")\n",
    ")\n",
    "\n",
    "aggregate_component = load_component(\n",
    "    source=os.path.join(SHARED_COMPONENTS_FOLDER, \"aggregatemodelweights\", \"spec.yaml\")\n",
    ")\n"
   ]
  },
  {
   "attachments": {},
   "cell_type": "markdown",
   "metadata": {},
   "source": [
    "#### Create ML client"
   ]
  },
  {
   "cell_type": "code",
   "execution_count": 12,
   "metadata": {},
   "outputs": [
    {
     "name": "stdout",
     "output_type": "stream",
     "text": [
      "Client created from user-provided values.\n"
     ]
    }
   ],
   "source": [
    "# USER TODO: fill in these values if you wish to produce a client handle without going through online authentication.\n",
    "subscription_id = '48bbc269-ce89-4f6f-9a12-c6f91fcb772d'\n",
    "resource_group = 'amitgarg-fldev-rg'\n",
    "workspace = 'aml-fldowhiletest'\n",
    "\n",
    "from azure.identity import DefaultAzureCredential\n",
    "from azure.ai.ml import MLClient\n",
    "\n",
    "if subscription_id is not None and resource_group is not None and workspace is not None:\n",
    "    ml_client = MLClient(DefaultAzureCredential(), subscription_id, resource_group, workspace)\n",
    "    print(\"Client created from user-provided values.\")\n",
    "else:\n",
    "    print(\"Client Unchanged.\")"
   ]
  },
  {
   "attachments": {},
   "cell_type": "markdown",
   "metadata": {},
   "source": [
    "#### Create Federated Learning Silos"
   ]
  },
  {
   "cell_type": "code",
   "execution_count": 13,
   "metadata": {},
   "outputs": [
    {
     "name": "stdout",
     "output_type": "stream",
     "text": [
      "Silo list created\n"
     ]
    }
   ],
   "source": [
    "from azure.ai.ml import Input\n",
    "from azure.ai.ml.entities._assets.federated_learning_silo import FederatedLearningSilo\n",
    "\n",
    "silo_list = [\n",
    "    FederatedLearningSilo(\n",
    "        compute=silo_config[\"compute\"],\n",
    "        datastore=silo_config[\"datastore\"],\n",
    "        inputs= {\n",
    "            \"silo_name\": dict(silo_config[\"inputs\"])[\"name\"],\n",
    "            \"raw_train_data\": Input(**dict(silo_config[\"inputs\"])[\"training_data\"]),\n",
    "            \"raw_test_data\": Input(**dict(silo_config[\"inputs\"])[\"testing_data\"]),\n",
    "            \n",
    "        },\n",
    "    )\n",
    "    for silo_config in YAML_CONFIG.strategy.horizontal\n",
    "]\n",
    "print(\"Silo list created\")"
   ]
  },
  {
   "attachments": {},
   "cell_type": "markdown",
   "metadata": {},
   "source": [
    "#### Create Argument Maps"
   ]
  },
  {
   "cell_type": "code",
   "execution_count": 14,
   "metadata": {},
   "outputs": [],
   "source": [
    "silo_to_aggregation_argument_map = {\"model\" : \"from_silo_input\"}\n",
    "aggregation_to_silo_argument_map = {\"aggregated_output\" : \"checkpoint\"}"
   ]
  },
  {
   "attachments": {},
   "cell_type": "markdown",
   "metadata": {},
   "source": [
    "#### Create kwarg input maps"
   ]
  },
  {
   "cell_type": "code",
   "execution_count": 15,
   "metadata": {},
   "outputs": [],
   "source": [
    "silo_kwargs = dict(YAML_CONFIG.inputs)\n",
    "agg_kwargs = {}"
   ]
  },
  {
   "attachments": {},
   "cell_type": "markdown",
   "metadata": {},
   "source": [
    "#### Create Silo subgraph"
   ]
  },
  {
   "cell_type": "code",
   "execution_count": 16,
   "metadata": {},
   "outputs": [],
   "source": [
    "@pipeline(\n",
    "    name=\"Silo FL Subgraph\",\n",
    "    description=\"It includes all steps that needs to be executing in silo\",\n",
    ")\n",
    "def silo_scatter_subgraph(\n",
    "    # user defined inputs\n",
    "    raw_train_data: Input,\n",
    "    raw_test_data: Input,\n",
    "    checkpoint: Input(optional=True),\n",
    "    silo_name: str,\n",
    "    # user defined training arguments\n",
    "    tokenizer_name: str = 'bert-base-cased',\n",
    "    model_name: str = 'bert-base-cased',\n",
    "    lr: float = 0.01,\n",
    "    epochs: int = 3,\n",
    "    batch_size: int = 64,\n",
    "    dp: bool = False,\n",
    "    dp_target_epsilon: float = 50.0,\n",
    "    dp_target_delta: float = 1e-5,\n",
    "    dp_max_grad_norm: float = 1.0,\n",
    ") -> dict:\n",
    "    \"\"\"Create scatter/silo subgraph.\n",
    "\n",
    "    Args:\n",
    "        raw_train_data (Input): raw train data\n",
    "        raw_test_data (Input): raw test data\n",
    "        checkpoint (Input): if not None, the checkpoint obtained from previous iteration\n",
    "        scatter_compute1 (str): Silo compute1 name\n",
    "        scatter_compute2 (str): Silo compute2 name\n",
    "        iteration_num (int): Iteration number\n",
    "        lr (float, optional): Learning rate. Defaults to 0.01.\n",
    "        epochs (int, optional): Number of epochs. Defaults to 3.\n",
    "        batch_size (int, optional): Batch size. Defaults to 64.\n",
    "        dp (bool, optional): Differential Privacy\n",
    "        dp_target_epsilon (float, optional): DP target epsilon\n",
    "        dp_target_delta (float, optional): DP target delta\n",
    "        dp_max_grad_norm (float, optional): DP max gradient norm\n",
    "        num_of_iterations (int, optional): Total number of iterations\n",
    "\n",
    "    Returns:\n",
    "        Dict[str, Outputs]: a map of the outputs\n",
    "    \"\"\"\n",
    "\n",
    "    # we're using our own preprocessing component\n",
    "    # silo_pre_processing_step = preprocessing_component(\n",
    "    #     # this consumes whatever user defined inputs\n",
    "    #     raw_training_data=raw_train_data,\n",
    "    #     raw_testing_data=raw_test_data,\n",
    "    #     # here we're using the name of the silo compute as a metrics prefix\n",
    "    #     metrics_prefix=silo_name,\n",
    "    # )\n",
    "\n",
    "    # # Assigning the silo's first compute to the preprocessing component\n",
    "    # silo_pre_processing_step.compute = silo_compute1\n",
    "    silo_pre_processing_step = preprocessing_component(\n",
    "        raw_training_data=raw_train_data,\n",
    "        raw_testing_data=raw_test_data,\n",
    "        tokenizer_name=tokenizer_name,\n",
    "        metrics_prefix=silo_name,\n",
    "    )\n",
    "    # we're using our own training component\n",
    "    silo_training_step = training_component(\n",
    "                # with the train_data from the pre_processing step\n",
    "                train_data=silo_pre_processing_step.outputs.processed_train_data,\n",
    "                # with the test_data from the pre_processing step\n",
    "                test_data=silo_pre_processing_step.outputs.processed_test_data,\n",
    "                # and the checkpoint from previous iteration (or None if iteration == 1)\n",
    "                checkpoint=checkpoint,\n",
    "                # Learning rate for local training\n",
    "                lr=lr,\n",
    "                # Number of epochs\n",
    "                epochs=epochs,\n",
    "                # Dataloader batch size\n",
    "                batch_size=batch_size,\n",
    "                # Differential Privacy\n",
    "                dp=dp,\n",
    "                model_name=model_name,\n",
    "                # DP target epsilon\n",
    "                dp_target_epsilon=dp_target_epsilon,\n",
    "                # DP target delta\n",
    "                dp_target_delta=dp_target_delta,\n",
    "                # DP max gradient norm\n",
    "                dp_max_grad_norm=dp_max_grad_norm,\n",
    "                # Silo name/identifier\n",
    "                metrics_prefix=silo_name,\n",
    "            )\n",
    "\n",
    "    # # Assigning the silo's second compute to the training component\n",
    "    # silo_training_step.compute = silo_compute1\n",
    "\n",
    "    # IMPORTANT: we will assume that any output provided here can be exfiltrated into the orchestrator/gather\n",
    "    return {\n",
    "        # NOTE: the key you use is custom\n",
    "        # a map function scatter_to_gather_map needs to be provided\n",
    "        # to map the name here to the expected input from gather\n",
    "        \"model\": silo_training_step.outputs.model\n",
    "    }"
   ]
  },
  {
   "attachments": {},
   "cell_type": "markdown",
   "metadata": {},
   "source": [
    "### Putting it all together - Creating a Pipeline with an FLCG Node"
   ]
  },
  {
   "cell_type": "code",
   "execution_count": 17,
   "metadata": {},
   "outputs": [
    {
     "name": "stderr",
     "output_type": "stream",
     "text": [
      "Method fl_scatter_gather: This is an experimental method, and may change at any time. Please see https://aka.ms/azuremlexperimental for more information.\n"
     ]
    },
    {
     "ename": "TypeError",
     "evalue": "silo_scatter_subgraph() got an unexpected keyword argument 'model_name'",
     "output_type": "error",
     "traceback": [
      "\u001b[1;31m---------------------------------------------------------------------------\u001b[0m",
      "\u001b[1;31mTypeError\u001b[0m                                 Traceback (most recent call last)",
      "Cell \u001b[1;32mIn[17], line 9\u001b[0m\n\u001b[0;32m      6\u001b[0m iterations \u001b[39m=\u001b[39m \u001b[39m2\u001b[39m \u001b[39m# arbitrary value set for example\u001b[39;00m\n\u001b[0;32m      7\u001b[0m \u001b[39m# @pipeline(default_compute=YAML_CONFIG.orchestrator.compute)\u001b[39;00m\n\u001b[0;32m      8\u001b[0m \u001b[39m# def fl_pipeline():\u001b[39;00m\n\u001b[1;32m----> 9\u001b[0m fl_node \u001b[39m=\u001b[39m fl\u001b[39m.\u001b[39mfl_scatter_gather(\n\u001b[0;32m     10\u001b[0m     silo_configs\u001b[39m=\u001b[39msilo_list,\n\u001b[0;32m     11\u001b[0m     silo_component\u001b[39m=\u001b[39msilo_scatter_subgraph,\n\u001b[0;32m     12\u001b[0m     aggregation_component\u001b[39m=\u001b[39maggregate_component,\n\u001b[0;32m     13\u001b[0m     aggregation_compute\u001b[39m=\u001b[39mYAML_CONFIG\u001b[39m.\u001b[39morchestrator\u001b[39m.\u001b[39mcompute,\n\u001b[0;32m     14\u001b[0m     aggregation_datastore\u001b[39m=\u001b[39mYAML_CONFIG\u001b[39m.\u001b[39morchestrator\u001b[39m.\u001b[39mdatastore,\n\u001b[0;32m     15\u001b[0m     shared_silo_kwargs\u001b[39m=\u001b[39msilo_kwargs,\n\u001b[0;32m     16\u001b[0m     aggregation_kwargs\u001b[39m=\u001b[39magg_kwargs,\n\u001b[0;32m     17\u001b[0m     silo_to_aggregation_argument_map\u001b[39m=\u001b[39msilo_to_aggregation_argument_map,\n\u001b[0;32m     18\u001b[0m     aggregation_to_silo_argument_map\u001b[39m=\u001b[39maggregation_to_silo_argument_map,\n\u001b[0;32m     19\u001b[0m     max_iterations\u001b[39m=\u001b[39mYAML_CONFIG\u001b[39m.\u001b[39miterations, \n\u001b[0;32m     20\u001b[0m )\n\u001b[0;32m     21\u001b[0m     \u001b[39m# NOTE: If you wish to examine the client-side subgraph, uncomment the following line (warning: large output)\u001b[39;00m\n\u001b[0;32m     22\u001b[0m     \u001b[39m# print(fl_node.subgraph)\u001b[39;00m\n\u001b[0;32m     23\u001b[0m \n\u001b[0;32m     24\u001b[0m \u001b[39m# fl_pipeline_job = fl_pipeline()\u001b[39;00m\n\u001b[0;32m     25\u001b[0m \u001b[39m# fl_pipeline_job.identity = UserIdentityConfiguration()\u001b[39;00m\n\u001b[0;32m     26\u001b[0m fl_pipeline_job \u001b[39m=\u001b[39m ml_client\u001b[39m.\u001b[39mjobs\u001b[39m.\u001b[39mcreate_or_update(fl_node\u001b[39m.\u001b[39mscatter_gather_graph, experiment_name\u001b[39m=\u001b[39m\u001b[39m\"\u001b[39m\u001b[39mexample_fl_pipeline\u001b[39m\u001b[39m\"\u001b[39m)\n",
      "File \u001b[1;32m~\\OneDrive - Microsoft\\Documents\\fl_sdk_dev\\azure-sdk-for-python\\sdk\\ml\\azure-ai-ml\\azure\\ai\\ml\\_utils\\_experimental.py:69\u001b[0m, in \u001b[0;36m_add_method_docstring.<locals>.wrapped\u001b[1;34m(*args, **kwargs)\u001b[0m\n\u001b[0;32m     67\u001b[0m \u001b[39mif\u001b[39;00m \u001b[39mnot\u001b[39;00m _should_skip_warning() \u001b[39mand\u001b[39;00m \u001b[39mnot\u001b[39;00m _is_warning_cached(message):\n\u001b[0;32m     68\u001b[0m     module_logger\u001b[39m.\u001b[39mwarning(message)\n\u001b[1;32m---> 69\u001b[0m \u001b[39mreturn\u001b[39;00m func(\u001b[39m*\u001b[39margs, \u001b[39m*\u001b[39m\u001b[39m*\u001b[39mkwargs)\n",
      "File \u001b[1;32m~\\OneDrive - Microsoft\\Documents\\fl_sdk_dev\\azure-sdk-for-python\\sdk\\ml\\azure-ai-ml\\azure\\ai\\ml\\dsl\\_fl_scatter_gather_node.py:118\u001b[0m, in \u001b[0;36mfl_scatter_gather\u001b[1;34m(silo_configs, silo_component, aggregation_component, aggregation_compute, aggregation_datastore, shared_silo_kwargs, aggregation_kwargs, silo_to_aggregation_argument_map, aggregation_to_silo_argument_map, max_iterations, _create_default_mappings_if_needed, **kwargs)\u001b[0m\n\u001b[0;32m    115\u001b[0m _check_for_import(\u001b[39m\"\u001b[39m\u001b[39mmldesigner\u001b[39m\u001b[39m\"\u001b[39m)\n\u001b[0;32m    117\u001b[0m \u001b[39m# Like other DSL nodes, this is just a wrapper around a node builder entity initializer.\u001b[39;00m\n\u001b[1;32m--> 118\u001b[0m \u001b[39mreturn\u001b[39;00m FLScatterGather(\n\u001b[0;32m    119\u001b[0m     silo_configs\u001b[39m=\u001b[39msilo_configs,\n\u001b[0;32m    120\u001b[0m     silo_component\u001b[39m=\u001b[39msilo_component,\n\u001b[0;32m    121\u001b[0m     aggregation_component\u001b[39m=\u001b[39maggregation_component,\n\u001b[0;32m    122\u001b[0m     shared_silo_kwargs\u001b[39m=\u001b[39mshared_silo_kwargs,\n\u001b[0;32m    123\u001b[0m     aggregation_compute\u001b[39m=\u001b[39maggregation_compute,\n\u001b[0;32m    124\u001b[0m     aggregation_datastore\u001b[39m=\u001b[39maggregation_datastore,\n\u001b[0;32m    125\u001b[0m     aggregation_kwargs\u001b[39m=\u001b[39maggregation_kwargs,\n\u001b[0;32m    126\u001b[0m     silo_to_aggregation_argument_map\u001b[39m=\u001b[39msilo_to_aggregation_argument_map,\n\u001b[0;32m    127\u001b[0m     aggregation_to_silo_argument_map\u001b[39m=\u001b[39maggregation_to_silo_argument_map,\n\u001b[0;32m    128\u001b[0m     max_iterations\u001b[39m=\u001b[39mmax_iterations,\n\u001b[0;32m    129\u001b[0m     create_default_mappings_if_needed\u001b[39m=\u001b[39m_create_default_mappings_if_needed,\n\u001b[0;32m    130\u001b[0m     \u001b[39m*\u001b[39m\u001b[39m*\u001b[39mkwargs,\n\u001b[0;32m    131\u001b[0m )\n",
      "File \u001b[1;32m~\\OneDrive - Microsoft\\Documents\\fl_sdk_dev\\azure-sdk-for-python\\sdk\\ml\\azure-ai-ml\\azure\\ai\\ml\\entities\\_builders\\fl_scatter_gather.py:109\u001b[0m, in \u001b[0;36mFLScatterGather.__init__\u001b[1;34m(self, silo_configs, silo_component, aggregation_component, aggregation_compute, aggregation_datastore, shared_silo_kwargs, aggregation_kwargs, silo_to_aggregation_argument_map, aggregation_to_silo_argument_map, max_iterations, create_default_mappings_if_needed, **kwargs)\u001b[0m\n\u001b[0;32m    106\u001b[0m \u001b[39mself\u001b[39m\u001b[39m.\u001b[39mmax_iterations \u001b[39m=\u001b[39m max_iterations\n\u001b[0;32m    107\u001b[0m \u001b[39mself\u001b[39m\u001b[39m.\u001b[39m_init \u001b[39m=\u001b[39m \u001b[39mTrue\u001b[39;00m  \u001b[39m# Needed by parent class to work properly\u001b[39;00m\n\u001b[1;32m--> 109\u001b[0m \u001b[39mself\u001b[39m\u001b[39m.\u001b[39mscatter_gather_graph \u001b[39m=\u001b[39m \u001b[39mself\u001b[39m\u001b[39m.\u001b[39mscatter_gather()\n\u001b[0;32m    111\u001b[0m \u001b[39m# set SG node flag for telemetry\u001b[39;00m\n\u001b[0;32m    112\u001b[0m \u001b[39mself\u001b[39m\u001b[39m.\u001b[39mscatter_gather_graph\u001b[39m.\u001b[39mproperties[\n\u001b[0;32m    113\u001b[0m     \u001b[39m\"\u001b[39m\u001b[39mazureml.telemetry.attribute\u001b[39m\u001b[39m\"\u001b[39m\n\u001b[0;32m    114\u001b[0m ] \u001b[39m=\u001b[39m \u001b[39m\"\u001b[39m\u001b[39mscatter-gather\u001b[39m\u001b[39m\"\u001b[39m\n",
      "File \u001b[1;32m~\\OneDrive - Microsoft\\Documents\\fl_sdk_dev\\azure-sdk-for-python\\sdk\\ml\\azure-ai-ml\\azure\\ai\\ml\\entities\\_builders\\fl_scatter_gather.py:246\u001b[0m, in \u001b[0;36mFLScatterGather.scatter_gather\u001b[1;34m(self)\u001b[0m\n\u001b[0;32m    239\u001b[0m     do_while(\n\u001b[0;32m    240\u001b[0m         body\u001b[39m=\u001b[39mscatter_gather_body,\n\u001b[0;32m    241\u001b[0m         mapping\u001b[39m=\u001b[39mdo_while_mapping,\n\u001b[0;32m    242\u001b[0m         max_iteration_count\u001b[39m=\u001b[39m\u001b[39mself\u001b[39m\u001b[39m.\u001b[39mmax_iterations,\n\u001b[0;32m    243\u001b[0m     )\n\u001b[0;32m    244\u001b[0m     \u001b[39mreturn\u001b[39;00m scatter_gather_body\u001b[39m.\u001b[39moutputs\n\u001b[1;32m--> 246\u001b[0m \u001b[39mreturn\u001b[39;00m create_scatter_gather_graph()\n",
      "File \u001b[1;32m~\\OneDrive - Microsoft\\Documents\\fl_sdk_dev\\azure-sdk-for-python\\sdk\\ml\\azure-ai-ml\\azure\\ai\\ml\\dsl\\_pipeline_decorator.py:180\u001b[0m, in \u001b[0;36mpipeline.<locals>.pipeline_decorator.<locals>.wrapper\u001b[1;34m(*args, **kwargs)\u001b[0m\n\u001b[0;32m    175\u001b[0m     non_pipeline_params_dict \u001b[39m=\u001b[39m {\n\u001b[0;32m    176\u001b[0m         k: v \u001b[39mfor\u001b[39;00m k, v \u001b[39min\u001b[39;00m provided_positional_kwargs\u001b[39m.\u001b[39mitems() \u001b[39mif\u001b[39;00m k \u001b[39min\u001b[39;00m non_pipeline_inputs\n\u001b[0;32m    177\u001b[0m     }\n\u001b[0;32m    179\u001b[0m     \u001b[39m# TODO: cache built pipeline component\u001b[39;00m\n\u001b[1;32m--> 180\u001b[0m     pipeline_component \u001b[39m=\u001b[39m pipeline_builder\u001b[39m.\u001b[39mbuild(\n\u001b[0;32m    181\u001b[0m         user_provided_kwargs\u001b[39m=\u001b[39mprovided_positional_kwargs,\n\u001b[0;32m    182\u001b[0m         non_pipeline_inputs_dict\u001b[39m=\u001b[39mnon_pipeline_params_dict,\n\u001b[0;32m    183\u001b[0m         non_pipeline_inputs\u001b[39m=\u001b[39mnon_pipeline_inputs,\n\u001b[0;32m    184\u001b[0m     )\n\u001b[0;32m    185\u001b[0m \u001b[39mfinally\u001b[39;00m:\n\u001b[0;32m    186\u001b[0m     \u001b[39m# use `finally` to ensure pop operation from the stack\u001b[39;00m\n\u001b[0;32m    187\u001b[0m     dsl_settings \u001b[39m=\u001b[39m _dsl_settings_stack\u001b[39m.\u001b[39mpop()\n",
      "File \u001b[1;32m~\\OneDrive - Microsoft\\Documents\\fl_sdk_dev\\azure-sdk-for-python\\sdk\\ml\\azure-ai-ml\\azure\\ai\\ml\\dsl\\_pipeline_component_builder.py:180\u001b[0m, in \u001b[0;36mPipelineComponentBuilder.build\u001b[1;34m(self, user_provided_kwargs, non_pipeline_inputs_dict, non_pipeline_inputs)\u001b[0m\n\u001b[0;32m    177\u001b[0m _definition_builder_stack\u001b[39m.\u001b[39mpush(\u001b[39mself\u001b[39m)\n\u001b[0;32m    179\u001b[0m \u001b[39mtry\u001b[39;00m:\n\u001b[1;32m--> 180\u001b[0m     outputs, _locals \u001b[39m=\u001b[39m get_outputs_and_locals(\u001b[39mself\u001b[39m\u001b[39m.\u001b[39mfunc, kwargs)\n\u001b[0;32m    181\u001b[0m \u001b[39mfinally\u001b[39;00m:\n\u001b[0;32m    182\u001b[0m     _definition_builder_stack\u001b[39m.\u001b[39mpop()\n",
      "File \u001b[1;32m~\\OneDrive - Microsoft\\Documents\\fl_sdk_dev\\azure-sdk-for-python\\sdk\\ml\\azure-ai-ml\\azure\\ai\\ml\\_utils\\_func_utils.py:285\u001b[0m, in \u001b[0;36mget_outputs_and_locals\u001b[1;34m(func, _all_kwargs)\u001b[0m\n\u001b[0;32m    275\u001b[0m \u001b[39m\"\"\"Get outputs and locals from self.func. Locals will be used to update node variable names.\u001b[39;00m\n\u001b[0;32m    276\u001b[0m \n\u001b[0;32m    277\u001b[0m \u001b[39m:param func: The function to execute.\u001b[39;00m\n\u001b[1;32m   (...)\u001b[0m\n\u001b[0;32m    282\u001b[0m \u001b[39m:rtype: typing.Tuple[typing.Dict, typing.Dict]\u001b[39;00m\n\u001b[0;32m    283\u001b[0m \u001b[39m\"\"\"\u001b[39;00m\n\u001b[0;32m    284\u001b[0m \u001b[39mif\u001b[39;00m is_private_preview_enabled():\n\u001b[1;32m--> 285\u001b[0m     \u001b[39mreturn\u001b[39;00m PersistentLocalsFunctionBytecodeBuilder()\u001b[39m.\u001b[39mcall(func, _all_kwargs)\n\u001b[0;32m    286\u001b[0m \u001b[39mreturn\u001b[39;00m PersistentLocalsFunctionProfilerBuilder()\u001b[39m.\u001b[39mcall(func, _all_kwargs)\n",
      "File \u001b[1;32m~\\OneDrive - Microsoft\\Documents\\fl_sdk_dev\\azure-sdk-for-python\\sdk\\ml\\azure-ai-ml\\azure\\ai\\ml\\_utils\\_func_utils.py:53\u001b[0m, in \u001b[0;36mPersistentLocalsFunctionBuilder.call\u001b[1;34m(self, func, _all_kwargs)\u001b[0m\n\u001b[0;32m     50\u001b[0m \u001b[39mif\u001b[39;00m \u001b[39mself\u001b[39m\u001b[39m.\u001b[39minjected_param \u001b[39min\u001b[39;00m func\u001b[39m.\u001b[39m\u001b[39m__code__\u001b[39m\u001b[39m.\u001b[39mco_varnames:\n\u001b[0;32m     51\u001b[0m     \u001b[39mraise\u001b[39;00m \u001b[39mValueError\u001b[39;00m(\u001b[39mself\u001b[39m\u001b[39m.\u001b[39mmake_error(\u001b[39m\"\u001b[39m\u001b[39mconflict_argument\u001b[39m\u001b[39m\"\u001b[39m, args\u001b[39m=\u001b[39m\u001b[39mlist\u001b[39m(func\u001b[39m.\u001b[39m\u001b[39m__code__\u001b[39m\u001b[39m.\u001b[39mco_varnames)))\n\u001b[1;32m---> 53\u001b[0m \u001b[39mreturn\u001b[39;00m \u001b[39mself\u001b[39m\u001b[39m.\u001b[39m_call(func, _all_kwargs)\n",
      "File \u001b[1;32m~\\OneDrive - Microsoft\\Documents\\fl_sdk_dev\\azure-sdk-for-python\\sdk\\ml\\azure-ai-ml\\azure\\ai\\ml\\_utils\\_func_utils.py:89\u001b[0m, in \u001b[0;36mPersistentLocalsFunctionProfilerBuilder._call\u001b[1;34m(self, func, _all_kwargs)\u001b[0m\n\u001b[0;32m     87\u001b[0m func_variable_profiler \u001b[39m=\u001b[39m \u001b[39mself\u001b[39m\u001b[39m.\u001b[39mget_func_variable_tracer(_locals, func\u001b[39m.\u001b[39m\u001b[39m__code__\u001b[39m)\n\u001b[0;32m     88\u001b[0m \u001b[39mwith\u001b[39;00m \u001b[39mself\u001b[39m\u001b[39m.\u001b[39mreplace_sys_profiler(func_variable_profiler):\n\u001b[1;32m---> 89\u001b[0m     outputs \u001b[39m=\u001b[39m func(\u001b[39m*\u001b[39m\u001b[39m*\u001b[39m_all_kwargs)\n\u001b[0;32m     90\u001b[0m \u001b[39mreturn\u001b[39;00m outputs, _locals\n",
      "File \u001b[1;32m~\\OneDrive - Microsoft\\Documents\\fl_sdk_dev\\azure-sdk-for-python\\sdk\\ml\\azure-ai-ml\\azure\\ai\\ml\\entities\\_builders\\fl_scatter_gather.py:231\u001b[0m, in \u001b[0;36mFLScatterGather.scatter_gather.<locals>.create_scatter_gather_graph\u001b[1;34m()\u001b[0m\n\u001b[0;32m    226\u001b[0m \u001b[39mif\u001b[39;00m \u001b[39mself\u001b[39m\u001b[39m.\u001b[39maggregation_to_silo_argument_map \u001b[39mis\u001b[39;00m \u001b[39mnot\u001b[39;00m \u001b[39mNone\u001b[39;00m:\n\u001b[0;32m    227\u001b[0m     silo_inputs\u001b[39m.\u001b[39mupdate(\n\u001b[0;32m    228\u001b[0m         {v: \u001b[39mNone\u001b[39;00m \u001b[39mfor\u001b[39;00m v \u001b[39min\u001b[39;00m \u001b[39mself\u001b[39m\u001b[39m.\u001b[39maggregation_to_silo_argument_map\u001b[39m.\u001b[39mvalues()}\n\u001b[0;32m    229\u001b[0m     )\n\u001b[1;32m--> 231\u001b[0m scatter_gather_body \u001b[39m=\u001b[39m scatter_gather_iteration_body(\u001b[39m*\u001b[39m\u001b[39m*\u001b[39msilo_inputs)\n\u001b[0;32m    233\u001b[0m \u001b[39m# map aggregation outputs to scatter inputs\u001b[39;00m\n\u001b[0;32m    234\u001b[0m do_while_mapping \u001b[39m=\u001b[39m {\n\u001b[0;32m    235\u001b[0m     k: \u001b[39mgetattr\u001b[39m(scatter_gather_body\u001b[39m.\u001b[39minputs, v)\n\u001b[0;32m    236\u001b[0m     \u001b[39mfor\u001b[39;00m k, v \u001b[39min\u001b[39;00m \u001b[39mself\u001b[39m\u001b[39m.\u001b[39maggregation_to_silo_argument_map\u001b[39m.\u001b[39mitems()\n\u001b[0;32m    237\u001b[0m }\n",
      "File \u001b[1;32m~\\OneDrive - Microsoft\\Documents\\fl_sdk_dev\\azure-sdk-for-python\\sdk\\ml\\azure-ai-ml\\azure\\ai\\ml\\dsl\\_pipeline_decorator.py:180\u001b[0m, in \u001b[0;36mpipeline.<locals>.pipeline_decorator.<locals>.wrapper\u001b[1;34m(*args, **kwargs)\u001b[0m\n\u001b[0;32m    175\u001b[0m     non_pipeline_params_dict \u001b[39m=\u001b[39m {\n\u001b[0;32m    176\u001b[0m         k: v \u001b[39mfor\u001b[39;00m k, v \u001b[39min\u001b[39;00m provided_positional_kwargs\u001b[39m.\u001b[39mitems() \u001b[39mif\u001b[39;00m k \u001b[39min\u001b[39;00m non_pipeline_inputs\n\u001b[0;32m    177\u001b[0m     }\n\u001b[0;32m    179\u001b[0m     \u001b[39m# TODO: cache built pipeline component\u001b[39;00m\n\u001b[1;32m--> 180\u001b[0m     pipeline_component \u001b[39m=\u001b[39m pipeline_builder\u001b[39m.\u001b[39mbuild(\n\u001b[0;32m    181\u001b[0m         user_provided_kwargs\u001b[39m=\u001b[39mprovided_positional_kwargs,\n\u001b[0;32m    182\u001b[0m         non_pipeline_inputs_dict\u001b[39m=\u001b[39mnon_pipeline_params_dict,\n\u001b[0;32m    183\u001b[0m         non_pipeline_inputs\u001b[39m=\u001b[39mnon_pipeline_inputs,\n\u001b[0;32m    184\u001b[0m     )\n\u001b[0;32m    185\u001b[0m \u001b[39mfinally\u001b[39;00m:\n\u001b[0;32m    186\u001b[0m     \u001b[39m# use `finally` to ensure pop operation from the stack\u001b[39;00m\n\u001b[0;32m    187\u001b[0m     dsl_settings \u001b[39m=\u001b[39m _dsl_settings_stack\u001b[39m.\u001b[39mpop()\n",
      "File \u001b[1;32m~\\OneDrive - Microsoft\\Documents\\fl_sdk_dev\\azure-sdk-for-python\\sdk\\ml\\azure-ai-ml\\azure\\ai\\ml\\dsl\\_pipeline_component_builder.py:180\u001b[0m, in \u001b[0;36mPipelineComponentBuilder.build\u001b[1;34m(self, user_provided_kwargs, non_pipeline_inputs_dict, non_pipeline_inputs)\u001b[0m\n\u001b[0;32m    177\u001b[0m _definition_builder_stack\u001b[39m.\u001b[39mpush(\u001b[39mself\u001b[39m)\n\u001b[0;32m    179\u001b[0m \u001b[39mtry\u001b[39;00m:\n\u001b[1;32m--> 180\u001b[0m     outputs, _locals \u001b[39m=\u001b[39m get_outputs_and_locals(\u001b[39mself\u001b[39m\u001b[39m.\u001b[39mfunc, kwargs)\n\u001b[0;32m    181\u001b[0m \u001b[39mfinally\u001b[39;00m:\n\u001b[0;32m    182\u001b[0m     _definition_builder_stack\u001b[39m.\u001b[39mpop()\n",
      "File \u001b[1;32m~\\OneDrive - Microsoft\\Documents\\fl_sdk_dev\\azure-sdk-for-python\\sdk\\ml\\azure-ai-ml\\azure\\ai\\ml\\_utils\\_func_utils.py:285\u001b[0m, in \u001b[0;36mget_outputs_and_locals\u001b[1;34m(func, _all_kwargs)\u001b[0m\n\u001b[0;32m    275\u001b[0m \u001b[39m\"\"\"Get outputs and locals from self.func. Locals will be used to update node variable names.\u001b[39;00m\n\u001b[0;32m    276\u001b[0m \n\u001b[0;32m    277\u001b[0m \u001b[39m:param func: The function to execute.\u001b[39;00m\n\u001b[1;32m   (...)\u001b[0m\n\u001b[0;32m    282\u001b[0m \u001b[39m:rtype: typing.Tuple[typing.Dict, typing.Dict]\u001b[39;00m\n\u001b[0;32m    283\u001b[0m \u001b[39m\"\"\"\u001b[39;00m\n\u001b[0;32m    284\u001b[0m \u001b[39mif\u001b[39;00m is_private_preview_enabled():\n\u001b[1;32m--> 285\u001b[0m     \u001b[39mreturn\u001b[39;00m PersistentLocalsFunctionBytecodeBuilder()\u001b[39m.\u001b[39mcall(func, _all_kwargs)\n\u001b[0;32m    286\u001b[0m \u001b[39mreturn\u001b[39;00m PersistentLocalsFunctionProfilerBuilder()\u001b[39m.\u001b[39mcall(func, _all_kwargs)\n",
      "File \u001b[1;32m~\\OneDrive - Microsoft\\Documents\\fl_sdk_dev\\azure-sdk-for-python\\sdk\\ml\\azure-ai-ml\\azure\\ai\\ml\\_utils\\_func_utils.py:53\u001b[0m, in \u001b[0;36mPersistentLocalsFunctionBuilder.call\u001b[1;34m(self, func, _all_kwargs)\u001b[0m\n\u001b[0;32m     50\u001b[0m \u001b[39mif\u001b[39;00m \u001b[39mself\u001b[39m\u001b[39m.\u001b[39minjected_param \u001b[39min\u001b[39;00m func\u001b[39m.\u001b[39m\u001b[39m__code__\u001b[39m\u001b[39m.\u001b[39mco_varnames:\n\u001b[0;32m     51\u001b[0m     \u001b[39mraise\u001b[39;00m \u001b[39mValueError\u001b[39;00m(\u001b[39mself\u001b[39m\u001b[39m.\u001b[39mmake_error(\u001b[39m\"\u001b[39m\u001b[39mconflict_argument\u001b[39m\u001b[39m\"\u001b[39m, args\u001b[39m=\u001b[39m\u001b[39mlist\u001b[39m(func\u001b[39m.\u001b[39m\u001b[39m__code__\u001b[39m\u001b[39m.\u001b[39mco_varnames)))\n\u001b[1;32m---> 53\u001b[0m \u001b[39mreturn\u001b[39;00m \u001b[39mself\u001b[39m\u001b[39m.\u001b[39m_call(func, _all_kwargs)\n",
      "File \u001b[1;32m~\\OneDrive - Microsoft\\Documents\\fl_sdk_dev\\azure-sdk-for-python\\sdk\\ml\\azure-ai-ml\\azure\\ai\\ml\\_utils\\_func_utils.py:89\u001b[0m, in \u001b[0;36mPersistentLocalsFunctionProfilerBuilder._call\u001b[1;34m(self, func, _all_kwargs)\u001b[0m\n\u001b[0;32m     87\u001b[0m func_variable_profiler \u001b[39m=\u001b[39m \u001b[39mself\u001b[39m\u001b[39m.\u001b[39mget_func_variable_tracer(_locals, func\u001b[39m.\u001b[39m\u001b[39m__code__\u001b[39m)\n\u001b[0;32m     88\u001b[0m \u001b[39mwith\u001b[39;00m \u001b[39mself\u001b[39m\u001b[39m.\u001b[39mreplace_sys_profiler(func_variable_profiler):\n\u001b[1;32m---> 89\u001b[0m     outputs \u001b[39m=\u001b[39m func(\u001b[39m*\u001b[39m\u001b[39m*\u001b[39m_all_kwargs)\n\u001b[0;32m     90\u001b[0m \u001b[39mreturn\u001b[39;00m outputs, _locals\n",
      "File \u001b[1;32m~\\OneDrive - Microsoft\\Documents\\fl_sdk_dev\\azure-sdk-for-python\\sdk\\ml\\azure-ai-ml\\azure\\ai\\ml\\entities\\_builders\\fl_scatter_gather.py:154\u001b[0m, in \u001b[0;36mFLScatterGather.scatter_gather.<locals>.scatter_gather_iteration_body\u001b[1;34m(**silo_inputs)\u001b[0m\n\u001b[0;32m    152\u001b[0m silo_config \u001b[39m=\u001b[39m \u001b[39mself\u001b[39m\u001b[39m.\u001b[39msilo_configs[i]\n\u001b[0;32m    153\u001b[0m silo_inputs\u001b[39m.\u001b[39mupdate(silo_config\u001b[39m.\u001b[39minputs)\n\u001b[1;32m--> 154\u001b[0m executed_silo_component \u001b[39m=\u001b[39m \u001b[39mself\u001b[39m\u001b[39m.\u001b[39msilo_component(\u001b[39m*\u001b[39m\u001b[39m*\u001b[39msilo_inputs)\n\u001b[0;32m    155\u001b[0m \u001b[39mfor\u001b[39;00m v, k \u001b[39min\u001b[39;00m executed_silo_component\u001b[39m.\u001b[39minputs\u001b[39m.\u001b[39mitems():\n\u001b[0;32m    156\u001b[0m     \u001b[39mif\u001b[39;00m v \u001b[39min\u001b[39;00m silo_config\u001b[39m.\u001b[39minputs \u001b[39mand\u001b[39;00m k\u001b[39m.\u001b[39mtype \u001b[39m==\u001b[39m \u001b[39m\"\u001b[39m\u001b[39muri_folder\u001b[39m\u001b[39m\"\u001b[39m:\n",
      "File \u001b[1;32m~\\OneDrive - Microsoft\\Documents\\fl_sdk_dev\\azure-sdk-for-python\\sdk\\ml\\azure-ai-ml\\azure\\ai\\ml\\dsl\\_pipeline_decorator.py:180\u001b[0m, in \u001b[0;36mpipeline.<locals>.pipeline_decorator.<locals>.wrapper\u001b[1;34m(*args, **kwargs)\u001b[0m\n\u001b[0;32m    175\u001b[0m     non_pipeline_params_dict \u001b[39m=\u001b[39m {\n\u001b[0;32m    176\u001b[0m         k: v \u001b[39mfor\u001b[39;00m k, v \u001b[39min\u001b[39;00m provided_positional_kwargs\u001b[39m.\u001b[39mitems() \u001b[39mif\u001b[39;00m k \u001b[39min\u001b[39;00m non_pipeline_inputs\n\u001b[0;32m    177\u001b[0m     }\n\u001b[0;32m    179\u001b[0m     \u001b[39m# TODO: cache built pipeline component\u001b[39;00m\n\u001b[1;32m--> 180\u001b[0m     pipeline_component \u001b[39m=\u001b[39m pipeline_builder\u001b[39m.\u001b[39mbuild(\n\u001b[0;32m    181\u001b[0m         user_provided_kwargs\u001b[39m=\u001b[39mprovided_positional_kwargs,\n\u001b[0;32m    182\u001b[0m         non_pipeline_inputs_dict\u001b[39m=\u001b[39mnon_pipeline_params_dict,\n\u001b[0;32m    183\u001b[0m         non_pipeline_inputs\u001b[39m=\u001b[39mnon_pipeline_inputs,\n\u001b[0;32m    184\u001b[0m     )\n\u001b[0;32m    185\u001b[0m \u001b[39mfinally\u001b[39;00m:\n\u001b[0;32m    186\u001b[0m     \u001b[39m# use `finally` to ensure pop operation from the stack\u001b[39;00m\n\u001b[0;32m    187\u001b[0m     dsl_settings \u001b[39m=\u001b[39m _dsl_settings_stack\u001b[39m.\u001b[39mpop()\n",
      "File \u001b[1;32m~\\OneDrive - Microsoft\\Documents\\fl_sdk_dev\\azure-sdk-for-python\\sdk\\ml\\azure-ai-ml\\azure\\ai\\ml\\dsl\\_pipeline_component_builder.py:180\u001b[0m, in \u001b[0;36mPipelineComponentBuilder.build\u001b[1;34m(self, user_provided_kwargs, non_pipeline_inputs_dict, non_pipeline_inputs)\u001b[0m\n\u001b[0;32m    177\u001b[0m _definition_builder_stack\u001b[39m.\u001b[39mpush(\u001b[39mself\u001b[39m)\n\u001b[0;32m    179\u001b[0m \u001b[39mtry\u001b[39;00m:\n\u001b[1;32m--> 180\u001b[0m     outputs, _locals \u001b[39m=\u001b[39m get_outputs_and_locals(\u001b[39mself\u001b[39m\u001b[39m.\u001b[39mfunc, kwargs)\n\u001b[0;32m    181\u001b[0m \u001b[39mfinally\u001b[39;00m:\n\u001b[0;32m    182\u001b[0m     _definition_builder_stack\u001b[39m.\u001b[39mpop()\n",
      "File \u001b[1;32m~\\OneDrive - Microsoft\\Documents\\fl_sdk_dev\\azure-sdk-for-python\\sdk\\ml\\azure-ai-ml\\azure\\ai\\ml\\_utils\\_func_utils.py:285\u001b[0m, in \u001b[0;36mget_outputs_and_locals\u001b[1;34m(func, _all_kwargs)\u001b[0m\n\u001b[0;32m    275\u001b[0m \u001b[39m\"\"\"Get outputs and locals from self.func. Locals will be used to update node variable names.\u001b[39;00m\n\u001b[0;32m    276\u001b[0m \n\u001b[0;32m    277\u001b[0m \u001b[39m:param func: The function to execute.\u001b[39;00m\n\u001b[1;32m   (...)\u001b[0m\n\u001b[0;32m    282\u001b[0m \u001b[39m:rtype: typing.Tuple[typing.Dict, typing.Dict]\u001b[39;00m\n\u001b[0;32m    283\u001b[0m \u001b[39m\"\"\"\u001b[39;00m\n\u001b[0;32m    284\u001b[0m \u001b[39mif\u001b[39;00m is_private_preview_enabled():\n\u001b[1;32m--> 285\u001b[0m     \u001b[39mreturn\u001b[39;00m PersistentLocalsFunctionBytecodeBuilder()\u001b[39m.\u001b[39mcall(func, _all_kwargs)\n\u001b[0;32m    286\u001b[0m \u001b[39mreturn\u001b[39;00m PersistentLocalsFunctionProfilerBuilder()\u001b[39m.\u001b[39mcall(func, _all_kwargs)\n",
      "File \u001b[1;32m~\\OneDrive - Microsoft\\Documents\\fl_sdk_dev\\azure-sdk-for-python\\sdk\\ml\\azure-ai-ml\\azure\\ai\\ml\\_utils\\_func_utils.py:53\u001b[0m, in \u001b[0;36mPersistentLocalsFunctionBuilder.call\u001b[1;34m(self, func, _all_kwargs)\u001b[0m\n\u001b[0;32m     50\u001b[0m \u001b[39mif\u001b[39;00m \u001b[39mself\u001b[39m\u001b[39m.\u001b[39minjected_param \u001b[39min\u001b[39;00m func\u001b[39m.\u001b[39m\u001b[39m__code__\u001b[39m\u001b[39m.\u001b[39mco_varnames:\n\u001b[0;32m     51\u001b[0m     \u001b[39mraise\u001b[39;00m \u001b[39mValueError\u001b[39;00m(\u001b[39mself\u001b[39m\u001b[39m.\u001b[39mmake_error(\u001b[39m\"\u001b[39m\u001b[39mconflict_argument\u001b[39m\u001b[39m\"\u001b[39m, args\u001b[39m=\u001b[39m\u001b[39mlist\u001b[39m(func\u001b[39m.\u001b[39m\u001b[39m__code__\u001b[39m\u001b[39m.\u001b[39mco_varnames)))\n\u001b[1;32m---> 53\u001b[0m \u001b[39mreturn\u001b[39;00m \u001b[39mself\u001b[39m\u001b[39m.\u001b[39m_call(func, _all_kwargs)\n",
      "File \u001b[1;32m~\\OneDrive - Microsoft\\Documents\\fl_sdk_dev\\azure-sdk-for-python\\sdk\\ml\\azure-ai-ml\\azure\\ai\\ml\\_utils\\_func_utils.py:89\u001b[0m, in \u001b[0;36mPersistentLocalsFunctionProfilerBuilder._call\u001b[1;34m(self, func, _all_kwargs)\u001b[0m\n\u001b[0;32m     87\u001b[0m func_variable_profiler \u001b[39m=\u001b[39m \u001b[39mself\u001b[39m\u001b[39m.\u001b[39mget_func_variable_tracer(_locals, func\u001b[39m.\u001b[39m\u001b[39m__code__\u001b[39m)\n\u001b[0;32m     88\u001b[0m \u001b[39mwith\u001b[39;00m \u001b[39mself\u001b[39m\u001b[39m.\u001b[39mreplace_sys_profiler(func_variable_profiler):\n\u001b[1;32m---> 89\u001b[0m     outputs \u001b[39m=\u001b[39m func(\u001b[39m*\u001b[39m\u001b[39m*\u001b[39m_all_kwargs)\n\u001b[0;32m     90\u001b[0m \u001b[39mreturn\u001b[39;00m outputs, _locals\n",
      "\u001b[1;31mTypeError\u001b[0m: silo_scatter_subgraph() got an unexpected keyword argument 'model_name'"
     ]
    }
   ],
   "source": [
    "from azure.ai.ml.dsl import pipeline\n",
    "import azure.ai.ml.dsl._fl_scatter_gather_node as fl\n",
    "from azure.ai.ml.entities._credentials import UserIdentityConfiguration\n",
    "\n",
    "\n",
    "iterations = 2 # arbitrary value set for example\n",
    "# @pipeline(default_compute=YAML_CONFIG.orchestrator.compute)\n",
    "# def fl_pipeline():\n",
    "fl_node = fl.fl_scatter_gather(\n",
    "    silo_configs=silo_list,\n",
    "    silo_component=silo_scatter_subgraph,\n",
    "    aggregation_component=aggregate_component,\n",
    "    aggregation_compute=YAML_CONFIG.orchestrator.compute,\n",
    "    aggregation_datastore=YAML_CONFIG.orchestrator.datastore,\n",
    "    shared_silo_kwargs=silo_kwargs,\n",
    "    aggregation_kwargs=agg_kwargs,\n",
    "    silo_to_aggregation_argument_map=silo_to_aggregation_argument_map,\n",
    "    aggregation_to_silo_argument_map=aggregation_to_silo_argument_map,\n",
    "    max_iterations=YAML_CONFIG.iterations, \n",
    ")\n",
    "    # NOTE: If you wish to examine the client-side subgraph, uncomment the following line (warning: large output)\n",
    "    # print(fl_node.subgraph)\n",
    "\n",
    "# fl_pipeline_job = fl_pipeline()\n",
    "# fl_pipeline_job.identity = UserIdentityConfiguration()\n",
    "fl_pipeline_job = ml_client.jobs.create_or_update(fl_node.scatter_gather_graph, experiment_name=\"example_fl_pipeline\")\n",
    "fl_pipeline_job"
   ]
  },
  {
   "cell_type": "code",
   "execution_count": null,
   "metadata": {},
   "outputs": [],
   "source": []
  }
 ],
 "metadata": {
  "kernelspec": {
   "display_name": "fl_sdk_test",
   "language": "python",
   "name": "python3"
  },
  "language_info": {
   "codemirror_mode": {
    "name": "ipython",
    "version": 3
   },
   "file_extension": ".py",
   "mimetype": "text/x-python",
   "name": "python",
   "nbconvert_exporter": "python",
   "pygments_lexer": "ipython3",
   "version": "3.11.0"
  },
  "orig_nbformat": 4,
  "vscode": {
   "interpreter": {
    "hash": "8fd1569a76b7ca3eba0da9e0ecbed98cdf9c274b2525be53134564ec5983f107"
   }
  }
 },
 "nbformat": 4,
 "nbformat_minor": 2
}
