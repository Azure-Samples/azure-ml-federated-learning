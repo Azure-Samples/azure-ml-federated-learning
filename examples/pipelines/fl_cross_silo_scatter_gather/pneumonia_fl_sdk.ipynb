{
 "cells": [
  {
   "attachments": {},
   "cell_type": "markdown",
   "metadata": {},
   "source": [
    "### Using the experimental FL Scatter-Gather DSL Node to submit the HELLOWORLD example "
   ]
  },
  {
   "attachments": {},
   "cell_type": "markdown",
   "metadata": {},
   "source": [
    "### Requirements"
   ]
  },
  {
   "attachments": {},
   "cell_type": "markdown",
   "metadata": {},
   "source": [
    "Create AML resources by following this tutorial: \n",
    "https://github.com/Azure-Samples/azure-ml-federated-learning/blob/main/docs/quickstart.md"
   ]
  },
  {
   "attachments": {},
   "cell_type": "markdown",
   "metadata": {},
   "source": [
    "##### Import libraries"
   ]
  },
  {
   "cell_type": "code",
   "execution_count": 1,
   "metadata": {},
   "outputs": [],
   "source": [
    "import os\n",
    "os.environ[\"AZURE_ML_CLI_PRIVATE_FEATURES_ENABLED\"] = \"True\""
   ]
  },
  {
   "cell_type": "code",
   "execution_count": 2,
   "metadata": {},
   "outputs": [],
   "source": [
    "import os\n",
    "import argparse\n",
    "import random\n",
    "import string\n",
    "import datetime\n",
    "import webbrowser\n",
    "import time\n",
    "import json\n",
    "import sys\n",
    "\n",
    "# Azure ML sdk v2 imports\n",
    "import azure\n",
    "from azure.identity import DefaultAzureCredential, InteractiveBrowserCredential\n",
    "from azure.ai.ml import MLClient, Input, Output\n",
    "from azure.ai.ml.constants import AssetTypes\n",
    "from azure.ai.ml.dsl import pipeline\n",
    "from azure.ai.ml import load_component\n",
    "\n",
    "# to handle yaml config easily\n",
    "from omegaconf import OmegaConf"
   ]
  },
  {
   "attachments": {},
   "cell_type": "markdown",
   "metadata": {},
   "source": [
    "#### Load components"
   ]
  },
  {
   "attachments": {},
   "cell_type": "markdown",
   "metadata": {},
   "source": [
    "### Pneumonia"
   ]
  },
  {
   "cell_type": "code",
   "execution_count": 3,
   "metadata": {},
   "outputs": [],
   "source": [
    "YAML_CONFIG = OmegaConf.load(r\"C:\\Users\\gargamit\\OneDrive - Microsoft\\Documents\\azure-samples-main-repo\\azure-ml-federated-learning\\examples\\pipelines\\pneumonia\\config.yaml\")\n",
    "# path to the components\n",
    "COMPONENTS_FOLDER = os.path.join(\n",
    "    \"./\", \"..\", \"..\", \"components\", \"PNEUMONIA\"\n",
    ")\n",
    "\n",
    "# path to the shared components\n",
    "SHARED_COMPONENTS_FOLDER = os.path.join(\n",
    "    \"./\", \"..\", \"..\", \"components\", \"utils\"\n",
    ")\n",
    "\n",
    "\n",
    "# preprocessing_component = load_component(\n",
    "#     source=os.path.join(COMPONENTS_FOLDER, \"preprocessing\", \"spec.yaml\")\n",
    "# )\n",
    "\n",
    "training_component = load_component(\n",
    "    source=os.path.join(COMPONENTS_FOLDER, \"traininsilo\", \"spec.yaml\")\n",
    ")\n",
    "\n",
    "aggregate_component = load_component(\n",
    "    source=os.path.join(SHARED_COMPONENTS_FOLDER, \"aggregatemodelweights\", \"spec.yaml\")\n",
    ")\n"
   ]
  },
  {
   "attachments": {},
   "cell_type": "markdown",
   "metadata": {},
   "source": [
    "#### Create ML client"
   ]
  },
  {
   "cell_type": "code",
   "execution_count": 4,
   "metadata": {},
   "outputs": [
    {
     "name": "stdout",
     "output_type": "stream",
     "text": [
      "Client created from user-provided values.\n"
     ]
    }
   ],
   "source": [
    "# USER TODO: fill in these values if you wish to produce a client handle without going through online authentication.\n",
    "subscription_id = '48bbc269-ce89-4f6f-9a12-c6f91fcb772d'\n",
    "resource_group = 'amitgarg-fldev-rg'\n",
    "workspace = 'aml-flhe'\n",
    "\n",
    "from azure.identity import DefaultAzureCredential\n",
    "from azure.ai.ml import MLClient\n",
    "\n",
    "if subscription_id is not None and resource_group is not None and workspace is not None:\n",
    "    ml_client = MLClient(DefaultAzureCredential(), subscription_id, resource_group, workspace)\n",
    "    print(\"Client created from user-provided values.\")\n",
    "else:\n",
    "    print(\"Client Unchanged.\")"
   ]
  },
  {
   "attachments": {},
   "cell_type": "markdown",
   "metadata": {},
   "source": [
    "#### Create Federated Learning Silos"
   ]
  },
  {
   "cell_type": "code",
   "execution_count": 5,
   "metadata": {},
   "outputs": [
    {
     "name": "stdout",
     "output_type": "stream",
     "text": [
      "Silo list created\n"
     ]
    }
   ],
   "source": [
    "from azure.ai.ml import Input\n",
    "from azure.ai.ml.entities._assets.federated_learning_silo import FederatedLearningSilo\n",
    "\n",
    "silo_list = [\n",
    "    FederatedLearningSilo(\n",
    "        compute=silo_config[\"compute\"],\n",
    "        datastore=silo_config[\"datastore\"],\n",
    "        inputs= {\n",
    "            \"silo_name\": dict(silo_config[\"inputs\"])[\"name\"],\n",
    "            \"raw_train_data\": Input(**dict(silo_config[\"inputs\"])[\"silo_data\"]),\n",
    "        },\n",
    "    )\n",
    "    for silo_config in YAML_CONFIG.strategy.horizontal\n",
    "]\n",
    "print(\"Silo list created\")"
   ]
  },
  {
   "attachments": {},
   "cell_type": "markdown",
   "metadata": {},
   "source": [
    "#### Create Argument Maps"
   ]
  },
  {
   "cell_type": "code",
   "execution_count": 6,
   "metadata": {},
   "outputs": [],
   "source": [
    "silo_to_aggregation_argument_map = {\"model\" : \"from_silo_input\"}\n",
    "aggregation_to_silo_argument_map = {\"aggregated_output\" : \"checkpoint\"}"
   ]
  },
  {
   "attachments": {},
   "cell_type": "markdown",
   "metadata": {},
   "source": [
    "#### Create kwarg input maps"
   ]
  },
  {
   "cell_type": "code",
   "execution_count": 7,
   "metadata": {},
   "outputs": [],
   "source": [
    "silo_kwargs = dict(YAML_CONFIG.inputs)\n",
    "agg_kwargs = {}"
   ]
  },
  {
   "attachments": {},
   "cell_type": "markdown",
   "metadata": {},
   "source": [
    "#### Create Silo subgraph"
   ]
  },
  {
   "cell_type": "code",
   "execution_count": 8,
   "metadata": {},
   "outputs": [],
   "source": [
    "@pipeline(\n",
    "    name=\"Silo Federated Learning Subgraph\",\n",
    "    description=\"It includes all steps that needs to be executing in silo\",\n",
    ")\n",
    "def silo_scatter_subgraph(\n",
    "    # user defined inputs\n",
    "    raw_train_data: Input,\n",
    "    checkpoint: Input(optional=True),\n",
    "    silo_name: str,\n",
    "    # user defined training arguments\n",
    "    lr: float = 0.01,\n",
    "    epochs: int = 3,\n",
    "    batch_size: int = 64,\n",
    "    dp: bool = False,\n",
    "    dp_target_epsilon: float = 50.0,\n",
    "    dp_target_delta: float = 1e-5,\n",
    "    dp_max_grad_norm: float = 1.0,\n",
    ") -> dict:\n",
    "    \"\"\"Create scatter/silo subgraph.\n",
    "\n",
    "    Args:\n",
    "        raw_train_data (Input): raw train data\n",
    "        raw_test_data (Input): raw test data\n",
    "        checkpoint (Input): if not None, the checkpoint obtained from previous iteration\n",
    "        scatter_compute1 (str): Silo compute1 name\n",
    "        scatter_compute2 (str): Silo compute2 name\n",
    "        iteration_num (int): Iteration number\n",
    "        lr (float, optional): Learning rate. Defaults to 0.01.\n",
    "        epochs (int, optional): Number of epochs. Defaults to 3.\n",
    "        batch_size (int, optional): Batch size. Defaults to 64.\n",
    "        dp (bool, optional): Differential Privacy\n",
    "        dp_target_epsilon (float, optional): DP target epsilon\n",
    "        dp_target_delta (float, optional): DP target delta\n",
    "        dp_max_grad_norm (float, optional): DP max gradient norm\n",
    "        num_of_iterations (int, optional): Total number of iterations\n",
    "\n",
    "    Returns:\n",
    "        Dict[str, Outputs]: a map of the outputs\n",
    "    \"\"\"\n",
    "\n",
    "    # we're using our own preprocessing component\n",
    "    # silo_pre_processing_step = preprocessing_component(\n",
    "    #     # this consumes whatever user defined inputs\n",
    "    #     raw_training_data=raw_train_data,\n",
    "    #     raw_testing_data=raw_test_data,\n",
    "    #     # here we're using the name of the silo compute as a metrics prefix\n",
    "    #     metrics_prefix=silo_name,\n",
    "    # )\n",
    "\n",
    "    # # Assigning the silo's first compute to the preprocessing component\n",
    "    # silo_pre_processing_step.compute = silo_compute1\n",
    "\n",
    "    # we're using our own training component\n",
    "    silo_training_step = training_component(\n",
    "        # with the train_data from the pre_processing step\n",
    "        dataset_name=raw_train_data,\n",
    "        # with the test_data from the pre_processing step\n",
    "        checkpoint=checkpoint,\n",
    "        # Learning rate for local training\n",
    "        lr=lr,\n",
    "        # Number of epochs\n",
    "        epochs=epochs,\n",
    "        # Dataloader batch size\n",
    "        batch_size=batch_size,\n",
    "        # Differential Privacy\n",
    "        dp=dp,\n",
    "        # DP target epsilon\n",
    "        dp_target_epsilon=dp_target_epsilon,\n",
    "        # DP target delta\n",
    "        dp_target_delta=dp_target_delta,\n",
    "        # DP max gradient norm\n",
    "        dp_max_grad_norm=dp_max_grad_norm,\n",
    "        # Silo name/identifier\n",
    "        metrics_prefix=silo_name,\n",
    "    )\n",
    "\n",
    "    # # Assigning the silo's second compute to the training component\n",
    "    # silo_training_step.compute = silo_compute1\n",
    "\n",
    "    # IMPORTANT: we will assume that any output provided here can be exfiltrated into the orchestrator/gather\n",
    "    return {\n",
    "        # NOTE: the key you use is custom\n",
    "        # a map function scatter_to_gather_map needs to be provided\n",
    "        # to map the name here to the expected input from gather\n",
    "        \"model\": silo_training_step.outputs.model\n",
    "    }"
   ]
  },
  {
   "attachments": {},
   "cell_type": "markdown",
   "metadata": {},
   "source": [
    "### Putting it all together - Creating a Pipeline with an FLCG Node"
   ]
  },
  {
   "cell_type": "code",
   "execution_count": 9,
   "metadata": {},
   "outputs": [
    {
     "name": "stderr",
     "output_type": "stream",
     "text": [
      "Method fl_scatter_gather: This is an experimental method, and may change at any time. Please see https://aka.ms/azuremlexperimental for more information.\n"
     ]
    },
    {
     "data": {
      "text/html": [
       "<table style=\"width:100%\"><tr><th>Experiment</th><th>Name</th><th>Type</th><th>Status</th><th>Details Page</th></tr><tr><td>example_fl_pipeline</td><td>tender_carrot_tw6d612dlk</td><td>pipeline</td><td>Preparing</td><td><a href=\"https://ml.azure.com/runs/tender_carrot_tw6d612dlk?wsid=/subscriptions/48bbc269-ce89-4f6f-9a12-c6f91fcb772d/resourcegroups/amitgarg-fldev-rg/workspaces/aml-flhe&amp;tid=72f988bf-86f1-41af-91ab-2d7cd011db47\" target=\"_blank\" rel=\"noopener\">Link to Azure Machine Learning studio</a></td></tr></table>"
      ],
      "text/plain": [
       "PipelineJob({'inputs': {}, 'outputs': {}, 'jobs': {}, 'component': PipelineComponent({'auto_increment_version': False, 'source': 'REMOTE.WORKSPACE.JOB', 'is_anonymous': True, 'name': 'azureml_anonymous', 'description': None, 'tags': {}, 'properties': {}, 'print_as_yaml': True, 'id': None, 'Resource__source_path': None, 'base_path': 'c:\\\\Users\\\\gargamit\\\\OneDrive - Microsoft\\\\Documents\\\\azure-samples-main-repo\\\\azure-ml-federated-learning\\\\examples\\\\pipelines\\\\fl_cross_silo_scatter_gather', 'creation_context': None, 'serialize': <msrest.serialization.Serializer object at 0x0000024A3995B8D0>, 'version': '1', 'latest_version': None, 'schema': None, 'type': 'pipeline', 'display_name': 'fl_pipeline', 'is_deterministic': None, 'inputs': {}, 'outputs': {}, 'yaml_str': None, 'other_parameter': {}, 'jobs': {'silo_federated_learning_subgraph': Pipeline({'init': False, 'type': 'pipeline', 'status': None, 'log_files': None, 'name': 'silo_federated_learning_subgraph', 'description': None, 'tags': {}, 'properties': {}, 'print_as_yaml': True, 'id': None, 'Resource__source_path': None, 'base_path': 'c:\\\\Users\\\\gargamit\\\\OneDrive - Microsoft\\\\Documents\\\\azure-samples-main-repo\\\\azure-ml-federated-learning\\\\examples\\\\pipelines\\\\fl_cross_silo_scatter_gather', 'creation_context': None, 'serialize': <msrest.serialization.Serializer object at 0x0000024A3ABBF590>, 'allowed_keys': {}, 'key_restriction': False, 'logger': <Logger attr_dict (WARNING)>, 'display_name': None, 'experiment_name': None, 'compute': None, 'services': None, 'comment': None, 'job_inputs': {'raw_train_data': {'type': 'uri_file', 'path': 'azureml://datastores/datastore_silo0/paths/federated_learning/pneumonia', 'mode': 'ro_mount'}, 'silo_name': 'silo0', 'lr': '0.01', 'epochs': '5', 'batch_size': '32', 'dp': 'False', 'dp_target_epsilon': '50.0', 'dp_target_delta': '1e-05', 'dp_max_grad_norm': '1.0'}, 'job_outputs': {'model': {'type': 'uri_folder', 'path': 'azureml://datastores/datastore_orchestrator/paths/federated_learning/model/${{name}}/'}}, 'inputs': {'raw_train_data': <azure.ai.ml.entities._job.pipeline._io.base.NodeInput object at 0x0000024A3ABBE610>, 'silo_name': <azure.ai.ml.entities._job.pipeline._io.base.NodeInput object at 0x0000024A3ABBFB50>, 'lr': <azure.ai.ml.entities._job.pipeline._io.base.NodeInput object at 0x0000024A3B01B0D0>, 'epochs': <azure.ai.ml.entities._job.pipeline._io.base.NodeInput object at 0x0000024A3B01A4D0>, 'batch_size': <azure.ai.ml.entities._job.pipeline._io.base.NodeInput object at 0x0000024A3B01BAD0>, 'dp': <azure.ai.ml.entities._job.pipeline._io.base.NodeInput object at 0x0000024A3B01BCD0>, 'dp_target_epsilon': <azure.ai.ml.entities._job.pipeline._io.base.NodeInput object at 0x0000024A3B01A590>, 'dp_target_delta': <azure.ai.ml.entities._job.pipeline._io.base.NodeInput object at 0x0000024A3B019750>, 'dp_max_grad_norm': <azure.ai.ml.entities._job.pipeline._io.base.NodeInput object at 0x0000024A3B019E10>}, 'outputs': {'model': <azure.ai.ml.entities._job.pipeline._io.base.NodeOutput object at 0x0000024A3B018A10>}, 'component': 'azureml_anonymous:62af7dc4-4b07-4145-a3f2-d751931664a2', 'referenced_control_flow_node_instance_id': None, 'kwargs': {}, 'instance_id': 'ba77fa5c-54ae-4fa9-9ba9-c7f5aa5753d3', 'source': 'REMOTE.WORKSPACE.COMPONENT', 'validate_required_input_not_provided': True, 'settings': None}), 'silo_federated_learning_subgraph_1': Pipeline({'init': False, 'type': 'pipeline', 'status': None, 'log_files': None, 'name': 'silo_federated_learning_subgraph_1', 'description': None, 'tags': {}, 'properties': {}, 'print_as_yaml': True, 'id': None, 'Resource__source_path': None, 'base_path': 'c:\\\\Users\\\\gargamit\\\\OneDrive - Microsoft\\\\Documents\\\\azure-samples-main-repo\\\\azure-ml-federated-learning\\\\examples\\\\pipelines\\\\fl_cross_silo_scatter_gather', 'creation_context': None, 'serialize': <msrest.serialization.Serializer object at 0x0000024A3AB03A10>, 'allowed_keys': {}, 'key_restriction': False, 'logger': <Logger attr_dict (WARNING)>, 'display_name': None, 'experiment_name': None, 'compute': None, 'services': None, 'comment': None, 'job_inputs': {'raw_train_data': {'type': 'uri_file', 'path': 'azureml://datastores/datastore_silo1/paths/federated_learning/pneumonia', 'mode': 'ro_mount'}, 'silo_name': 'silo1', 'lr': '0.01', 'epochs': '5', 'batch_size': '32', 'dp': 'False', 'dp_target_epsilon': '50.0', 'dp_target_delta': '1e-05', 'dp_max_grad_norm': '1.0'}, 'job_outputs': {'model': {'type': 'uri_folder', 'path': 'azureml://datastores/datastore_orchestrator/paths/federated_learning/model/${{name}}/'}}, 'inputs': {'raw_train_data': <azure.ai.ml.entities._job.pipeline._io.base.NodeInput object at 0x0000024A3AB006D0>, 'silo_name': <azure.ai.ml.entities._job.pipeline._io.base.NodeInput object at 0x0000024A3AB01B90>, 'lr': <azure.ai.ml.entities._job.pipeline._io.base.NodeInput object at 0x0000024A3AB00750>, 'epochs': <azure.ai.ml.entities._job.pipeline._io.base.NodeInput object at 0x0000024A3AB01090>, 'batch_size': <azure.ai.ml.entities._job.pipeline._io.base.NodeInput object at 0x0000024A3AB030D0>, 'dp': <azure.ai.ml.entities._job.pipeline._io.base.NodeInput object at 0x0000024A3AB00550>, 'dp_target_epsilon': <azure.ai.ml.entities._job.pipeline._io.base.NodeInput object at 0x0000024A3AB01DD0>, 'dp_target_delta': <azure.ai.ml.entities._job.pipeline._io.base.NodeInput object at 0x0000024A3AB00A50>, 'dp_max_grad_norm': <azure.ai.ml.entities._job.pipeline._io.base.NodeInput object at 0x0000024A3AB00450>}, 'outputs': {'model': <azure.ai.ml.entities._job.pipeline._io.base.NodeOutput object at 0x0000024A368BCA90>}, 'component': 'azureml_anonymous:57fb4b4f-d518-4631-bbfe-e147e48f557e', 'referenced_control_flow_node_instance_id': None, 'kwargs': {}, 'instance_id': 'e0f629cf-d545-42dc-808e-4b716ee48e5d', 'source': 'REMOTE.WORKSPACE.COMPONENT', 'validate_required_input_not_provided': True, 'settings': None}), 'silo_federated_learning_subgraph_2': Pipeline({'init': False, 'type': 'pipeline', 'status': None, 'log_files': None, 'name': 'silo_federated_learning_subgraph_2', 'description': None, 'tags': {}, 'properties': {}, 'print_as_yaml': True, 'id': None, 'Resource__source_path': None, 'base_path': 'c:\\\\Users\\\\gargamit\\\\OneDrive - Microsoft\\\\Documents\\\\azure-samples-main-repo\\\\azure-ml-federated-learning\\\\examples\\\\pipelines\\\\fl_cross_silo_scatter_gather', 'creation_context': None, 'serialize': <msrest.serialization.Serializer object at 0x0000024A399919D0>, 'allowed_keys': {}, 'key_restriction': False, 'logger': <Logger attr_dict (WARNING)>, 'display_name': None, 'experiment_name': None, 'compute': None, 'services': None, 'comment': None, 'job_inputs': {'raw_train_data': {'type': 'uri_file', 'path': 'azureml://datastores/datastore_silo2/paths/federated_learning/pneumonia', 'mode': 'ro_mount'}, 'silo_name': 'silo2', 'lr': '0.01', 'epochs': '5', 'batch_size': '32', 'dp': 'False', 'dp_target_epsilon': '50.0', 'dp_target_delta': '1e-05', 'dp_max_grad_norm': '1.0'}, 'job_outputs': {'model': {'type': 'uri_folder', 'path': 'azureml://datastores/datastore_orchestrator/paths/federated_learning/model/${{name}}/'}}, 'inputs': {'raw_train_data': <azure.ai.ml.entities._job.pipeline._io.base.NodeInput object at 0x0000024A39990A50>, 'silo_name': <azure.ai.ml.entities._job.pipeline._io.base.NodeInput object at 0x0000024A39993D50>, 'lr': <azure.ai.ml.entities._job.pipeline._io.base.NodeInput object at 0x0000024A39990C90>, 'epochs': <azure.ai.ml.entities._job.pipeline._io.base.NodeInput object at 0x0000024A39990810>, 'batch_size': <azure.ai.ml.entities._job.pipeline._io.base.NodeInput object at 0x0000024A39990890>, 'dp': <azure.ai.ml.entities._job.pipeline._io.base.NodeInput object at 0x0000024A39993D90>, 'dp_target_epsilon': <azure.ai.ml.entities._job.pipeline._io.base.NodeInput object at 0x0000024A39990490>, 'dp_target_delta': <azure.ai.ml.entities._job.pipeline._io.base.NodeInput object at 0x0000024A399934D0>, 'dp_max_grad_norm': <azure.ai.ml.entities._job.pipeline._io.base.NodeInput object at 0x0000024A39993DD0>}, 'outputs': {'model': <azure.ai.ml.entities._job.pipeline._io.base.NodeOutput object at 0x0000024A39990290>}, 'component': 'azureml_anonymous:125402d3-4d2f-4c6f-b2a9-db45cb832c1c', 'referenced_control_flow_node_instance_id': None, 'kwargs': {}, 'instance_id': '21167bb1-f479-4c71-8c3b-e58258980728', 'source': 'REMOTE.WORKSPACE.COMPONENT', 'validate_required_input_not_provided': True, 'settings': None}), 'aggregate_output': Command({'parameters': {}, 'init': False, 'type': 'command', 'status': None, 'log_files': None, 'name': 'aggregate_output', 'description': None, 'tags': {}, 'properties': {}, 'print_as_yaml': True, 'id': None, 'Resource__source_path': None, 'base_path': 'c:\\\\Users\\\\gargamit\\\\OneDrive - Microsoft\\\\Documents\\\\azure-samples-main-repo\\\\azure-ml-federated-learning\\\\examples\\\\pipelines\\\\fl_cross_silo_scatter_gather', 'creation_context': None, 'serialize': <msrest.serialization.Serializer object at 0x0000024A3AB36D90>, 'allowed_keys': {}, 'key_restriction': False, 'logger': <Logger attr_dict (WARNING)>, 'display_name': None, 'experiment_name': None, 'compute': 'orchestrator-01', 'services': None, 'comment': None, 'job_inputs': {'model_silo_0': {'type': 'uri_folder', 'path': '${{parent.jobs.silo_federated_learning_subgraph.outputs.model}}', 'mode': 'direct'}, 'model_silo_1': {'type': 'uri_folder', 'path': '${{parent.jobs.silo_federated_learning_subgraph_1.outputs.model}}', 'mode': 'direct'}, 'model_silo_2': {'type': 'uri_folder', 'path': '${{parent.jobs.silo_federated_learning_subgraph_2.outputs.model}}', 'mode': 'direct'}}, 'job_outputs': {'aggregated_output': {'type': 'uri_folder', 'path': 'azureml://datastores/datastore_orchestrator/paths/federated_learning/aggregated_output/${{name}}/'}}, 'inputs': {'model_silo_0': <azure.ai.ml.entities._job.pipeline._io.base.NodeInput object at 0x0000024A39990050>, 'model_silo_1': <azure.ai.ml.entities._job.pipeline._io.base.NodeInput object at 0x0000024A399500D0>, 'model_silo_2': <azure.ai.ml.entities._job.pipeline._io.base.NodeInput object at 0x0000024A39969C50>}, 'outputs': {'aggregated_output': <azure.ai.ml.entities._job.pipeline._io.base.NodeOutput object at 0x0000024A39969B50>}, 'component': 'azureml_anonymous:9a4dfe7a-1928-43fa-b1a7-b99b3c06b63a', 'referenced_control_flow_node_instance_id': None, 'kwargs': {'services': None}, 'instance_id': 'cfc8298b-512d-4728-9cb0-67b7db095116', 'source': 'REMOTE.WORKSPACE.COMPONENT', 'validate_required_input_not_provided': True, 'limits': None, 'identity': None, 'distribution': None, 'environment_variables': {}, 'environment': None, 'resources': None, 'queue_settings': None, 'swept': False}), 'aggregate_model_weights': Command({'parameters': {}, 'init': False, 'type': 'command', 'status': None, 'log_files': None, 'name': 'aggregate_model_weights', 'description': None, 'tags': {}, 'properties': {}, 'print_as_yaml': True, 'id': None, 'Resource__source_path': None, 'base_path': 'c:\\\\Users\\\\gargamit\\\\OneDrive - Microsoft\\\\Documents\\\\azure-samples-main-repo\\\\azure-ml-federated-learning\\\\examples\\\\pipelines\\\\fl_cross_silo_scatter_gather', 'creation_context': None, 'serialize': <msrest.serialization.Serializer object at 0x0000024A39968A10>, 'allowed_keys': {}, 'key_restriction': False, 'logger': <Logger attr_dict (WARNING)>, 'display_name': None, 'experiment_name': None, 'compute': 'orchestrator-01', 'services': None, 'comment': None, 'job_inputs': {'from_silo_input': '${{parent.jobs.aggregate_output.outputs.aggregated_output}}'}, 'job_outputs': {'aggregated_output': {'type': 'uri_folder', 'path': 'azureml://datastores/datastore_orchestrator/paths/federated_learning/aggregated_output/${{name}}/'}}, 'inputs': {'from_silo_input': <azure.ai.ml.entities._job.pipeline._io.base.NodeInput object at 0x0000024A39968E10>}, 'outputs': {'aggregated_output': <azure.ai.ml.entities._job.pipeline._io.base.NodeOutput object at 0x0000024A39969CD0>}, 'component': 'azureml_anonymous:e7ffd5ee-f174-47f3-b2e1-bfac0adee85c', 'referenced_control_flow_node_instance_id': None, 'kwargs': {'services': None}, 'instance_id': '2110d528-5697-4a47-b9ae-7bdda8fa033e', 'source': 'REMOTE.WORKSPACE.COMPONENT', 'validate_required_input_not_provided': True, 'limits': None, 'identity': None, 'distribution': None, 'environment_variables': {}, 'environment': None, 'resources': None, 'queue_settings': None, 'swept': False}), 'silo_federated_learning_subgraph_3': Pipeline({'init': False, 'type': 'pipeline', 'status': None, 'log_files': None, 'name': 'silo_federated_learning_subgraph_3', 'description': None, 'tags': {}, 'properties': {}, 'print_as_yaml': True, 'id': None, 'Resource__source_path': None, 'base_path': 'c:\\\\Users\\\\gargamit\\\\OneDrive - Microsoft\\\\Documents\\\\azure-samples-main-repo\\\\azure-ml-federated-learning\\\\examples\\\\pipelines\\\\fl_cross_silo_scatter_gather', 'creation_context': None, 'serialize': <msrest.serialization.Serializer object at 0x0000024A3996BDD0>, 'allowed_keys': {}, 'key_restriction': False, 'logger': <Logger attr_dict (WARNING)>, 'display_name': None, 'experiment_name': None, 'compute': None, 'services': None, 'comment': None, 'job_inputs': {'raw_train_data': {'type': 'uri_file', 'path': 'azureml://datastores/datastore_silo0/paths/federated_learning/pneumonia', 'mode': 'ro_mount'}, 'silo_name': 'silo0', 'lr': '0.01', 'epochs': '5', 'batch_size': '32', 'dp': 'False', 'dp_target_epsilon': '50.0', 'dp_target_delta': '1e-05', 'dp_max_grad_norm': '1.0', 'checkpoint': '${{parent.jobs.aggregate_model_weights.outputs.aggregated_output}}'}, 'job_outputs': {'model': {'type': 'uri_folder', 'path': 'azureml://datastores/datastore_orchestrator/paths/federated_learning/model/${{name}}/'}}, 'inputs': {'raw_train_data': <azure.ai.ml.entities._job.pipeline._io.base.NodeInput object at 0x0000024A39969110>, 'silo_name': <azure.ai.ml.entities._job.pipeline._io.base.NodeInput object at 0x0000024A39969B90>, 'lr': <azure.ai.ml.entities._job.pipeline._io.base.NodeInput object at 0x0000024A3996B450>, 'epochs': <azure.ai.ml.entities._job.pipeline._io.base.NodeInput object at 0x0000024A3996A9D0>, 'batch_size': <azure.ai.ml.entities._job.pipeline._io.base.NodeInput object at 0x0000024A3996AB10>, 'dp': <azure.ai.ml.entities._job.pipeline._io.base.NodeInput object at 0x0000024A3996BE90>, 'dp_target_epsilon': <azure.ai.ml.entities._job.pipeline._io.base.NodeInput object at 0x0000024A3996B7D0>, 'dp_target_delta': <azure.ai.ml.entities._job.pipeline._io.base.NodeInput object at 0x0000024A3996B110>, 'dp_max_grad_norm': <azure.ai.ml.entities._job.pipeline._io.base.NodeInput object at 0x0000024A39968C10>, 'checkpoint': <azure.ai.ml.entities._job.pipeline._io.base.NodeInput object at 0x0000024A3996B290>}, 'outputs': {'model': <azure.ai.ml.entities._job.pipeline._io.base.NodeOutput object at 0x0000024A3996BA10>}, 'component': 'azureml_anonymous:62af7dc4-4b07-4145-a3f2-d751931664a2', 'referenced_control_flow_node_instance_id': None, 'kwargs': {}, 'instance_id': 'd3921acb-1e97-4aaa-b181-6d93b3a74751', 'source': 'REMOTE.WORKSPACE.COMPONENT', 'validate_required_input_not_provided': True, 'settings': None}), 'silo_federated_learning_subgraph_4': Pipeline({'init': False, 'type': 'pipeline', 'status': None, 'log_files': None, 'name': 'silo_federated_learning_subgraph_4', 'description': None, 'tags': {}, 'properties': {}, 'print_as_yaml': True, 'id': None, 'Resource__source_path': None, 'base_path': 'c:\\\\Users\\\\gargamit\\\\OneDrive - Microsoft\\\\Documents\\\\azure-samples-main-repo\\\\azure-ml-federated-learning\\\\examples\\\\pipelines\\\\fl_cross_silo_scatter_gather', 'creation_context': None, 'serialize': <msrest.serialization.Serializer object at 0x0000024A39969F90>, 'allowed_keys': {}, 'key_restriction': False, 'logger': <Logger attr_dict (WARNING)>, 'display_name': None, 'experiment_name': None, 'compute': None, 'services': None, 'comment': None, 'job_inputs': {'raw_train_data': {'type': 'uri_file', 'path': 'azureml://datastores/datastore_silo1/paths/federated_learning/pneumonia', 'mode': 'ro_mount'}, 'silo_name': 'silo1', 'lr': '0.01', 'epochs': '5', 'batch_size': '32', 'dp': 'False', 'dp_target_epsilon': '50.0', 'dp_target_delta': '1e-05', 'dp_max_grad_norm': '1.0', 'checkpoint': '${{parent.jobs.aggregate_model_weights.outputs.aggregated_output}}'}, 'job_outputs': {'model': {'type': 'uri_folder', 'path': 'azureml://datastores/datastore_orchestrator/paths/federated_learning/model/${{name}}/'}}, 'inputs': {'raw_train_data': <azure.ai.ml.entities._job.pipeline._io.base.NodeInput object at 0x0000024A3996BCD0>, 'silo_name': <azure.ai.ml.entities._job.pipeline._io.base.NodeInput object at 0x0000024A399692D0>, 'lr': <azure.ai.ml.entities._job.pipeline._io.base.NodeInput object at 0x0000024A399690D0>, 'epochs': <azure.ai.ml.entities._job.pipeline._io.base.NodeInput object at 0x0000024A3996A2D0>, 'batch_size': <azure.ai.ml.entities._job.pipeline._io.base.NodeInput object at 0x0000024A399695D0>, 'dp': <azure.ai.ml.entities._job.pipeline._io.base.NodeInput object at 0x0000024A39968E90>, 'dp_target_epsilon': <azure.ai.ml.entities._job.pipeline._io.base.NodeInput object at 0x0000024A399698D0>, 'dp_target_delta': <azure.ai.ml.entities._job.pipeline._io.base.NodeInput object at 0x0000024A3996A650>, 'dp_max_grad_norm': <azure.ai.ml.entities._job.pipeline._io.base.NodeInput object at 0x0000024A3AE1EBD0>, 'checkpoint': <azure.ai.ml.entities._job.pipeline._io.base.NodeInput object at 0x0000024A3AE1EAD0>}, 'outputs': {'model': <azure.ai.ml.entities._job.pipeline._io.base.NodeOutput object at 0x0000024A3AE1EB10>}, 'component': 'azureml_anonymous:57fb4b4f-d518-4631-bbfe-e147e48f557e', 'referenced_control_flow_node_instance_id': None, 'kwargs': {}, 'instance_id': '7a6d0369-806b-4684-b5dc-50343e9bceb9', 'source': 'REMOTE.WORKSPACE.COMPONENT', 'validate_required_input_not_provided': True, 'settings': None}), 'silo_federated_learning_subgraph_5': Pipeline({'init': False, 'type': 'pipeline', 'status': None, 'log_files': None, 'name': 'silo_federated_learning_subgraph_5', 'description': None, 'tags': {}, 'properties': {}, 'print_as_yaml': True, 'id': None, 'Resource__source_path': None, 'base_path': 'c:\\\\Users\\\\gargamit\\\\OneDrive - Microsoft\\\\Documents\\\\azure-samples-main-repo\\\\azure-ml-federated-learning\\\\examples\\\\pipelines\\\\fl_cross_silo_scatter_gather', 'creation_context': None, 'serialize': <msrest.serialization.Serializer object at 0x0000024A3995AD90>, 'allowed_keys': {}, 'key_restriction': False, 'logger': <Logger attr_dict (WARNING)>, 'display_name': None, 'experiment_name': None, 'compute': None, 'services': None, 'comment': None, 'job_inputs': {'raw_train_data': {'type': 'uri_file', 'path': 'azureml://datastores/datastore_silo2/paths/federated_learning/pneumonia', 'mode': 'ro_mount'}, 'silo_name': 'silo2', 'lr': '0.01', 'epochs': '5', 'batch_size': '32', 'dp': 'False', 'dp_target_epsilon': '50.0', 'dp_target_delta': '1e-05', 'dp_max_grad_norm': '1.0', 'checkpoint': '${{parent.jobs.aggregate_model_weights.outputs.aggregated_output}}'}, 'job_outputs': {'model': {'type': 'uri_folder', 'path': 'azureml://datastores/datastore_orchestrator/paths/federated_learning/model/${{name}}/'}}, 'inputs': {'raw_train_data': <azure.ai.ml.entities._job.pipeline._io.base.NodeInput object at 0x0000024A3995B110>, 'silo_name': <azure.ai.ml.entities._job.pipeline._io.base.NodeInput object at 0x0000024A3995AA10>, 'lr': <azure.ai.ml.entities._job.pipeline._io.base.NodeInput object at 0x0000024A3995B010>, 'epochs': <azure.ai.ml.entities._job.pipeline._io.base.NodeInput object at 0x0000024A3995A9D0>, 'batch_size': <azure.ai.ml.entities._job.pipeline._io.base.NodeInput object at 0x0000024A3995A450>, 'dp': <azure.ai.ml.entities._job.pipeline._io.base.NodeInput object at 0x0000024A3995A410>, 'dp_target_epsilon': <azure.ai.ml.entities._job.pipeline._io.base.NodeInput object at 0x0000024A3995A510>, 'dp_target_delta': <azure.ai.ml.entities._job.pipeline._io.base.NodeInput object at 0x0000024A3995A0D0>, 'dp_max_grad_norm': <azure.ai.ml.entities._job.pipeline._io.base.NodeInput object at 0x0000024A3995B150>, 'checkpoint': <azure.ai.ml.entities._job.pipeline._io.base.NodeInput object at 0x0000024A3995A710>}, 'outputs': {'model': <azure.ai.ml.entities._job.pipeline._io.base.NodeOutput object at 0x0000024A3995A950>}, 'component': 'azureml_anonymous:125402d3-4d2f-4c6f-b2a9-db45cb832c1c', 'referenced_control_flow_node_instance_id': None, 'kwargs': {}, 'instance_id': '411b99b9-2da5-4d80-9f40-2c45d5ce2444', 'source': 'REMOTE.WORKSPACE.COMPONENT', 'validate_required_input_not_provided': True, 'settings': None}), 'aggregate_output_1': Command({'parameters': {}, 'init': False, 'type': 'command', 'status': None, 'log_files': None, 'name': 'aggregate_output_1', 'description': None, 'tags': {}, 'properties': {}, 'print_as_yaml': True, 'id': None, 'Resource__source_path': None, 'base_path': 'c:\\\\Users\\\\gargamit\\\\OneDrive - Microsoft\\\\Documents\\\\azure-samples-main-repo\\\\azure-ml-federated-learning\\\\examples\\\\pipelines\\\\fl_cross_silo_scatter_gather', 'creation_context': None, 'serialize': <msrest.serialization.Serializer object at 0x0000024A3AB37810>, 'allowed_keys': {}, 'key_restriction': False, 'logger': <Logger attr_dict (WARNING)>, 'display_name': None, 'experiment_name': None, 'compute': 'orchestrator-01', 'services': None, 'comment': None, 'job_inputs': {'model_silo_0': {'type': 'uri_folder', 'path': '${{parent.jobs.silo_federated_learning_subgraph_3.outputs.model}}', 'mode': 'direct'}, 'model_silo_1': {'type': 'uri_folder', 'path': '${{parent.jobs.silo_federated_learning_subgraph_4.outputs.model}}', 'mode': 'direct'}, 'model_silo_2': {'type': 'uri_folder', 'path': '${{parent.jobs.silo_federated_learning_subgraph_5.outputs.model}}', 'mode': 'direct'}}, 'job_outputs': {'aggregated_output': {'type': 'uri_folder', 'path': 'azureml://datastores/datastore_orchestrator/paths/federated_learning/aggregated_output/${{name}}/'}}, 'inputs': {'model_silo_0': <azure.ai.ml.entities._job.pipeline._io.base.NodeInput object at 0x0000024A3995BE10>, 'model_silo_1': <azure.ai.ml.entities._job.pipeline._io.base.NodeInput object at 0x0000024A3995B410>, 'model_silo_2': <azure.ai.ml.entities._job.pipeline._io.base.NodeInput object at 0x0000024A39958FD0>}, 'outputs': {'aggregated_output': <azure.ai.ml.entities._job.pipeline._io.base.NodeOutput object at 0x0000024A399591D0>}, 'component': 'azureml_anonymous:9a4dfe7a-1928-43fa-b1a7-b99b3c06b63a', 'referenced_control_flow_node_instance_id': None, 'kwargs': {'services': None}, 'instance_id': '739a35a8-cfc3-4152-bee4-4b0f3385f570', 'source': 'REMOTE.WORKSPACE.COMPONENT', 'validate_required_input_not_provided': True, 'limits': None, 'identity': None, 'distribution': None, 'environment_variables': {}, 'environment': None, 'resources': None, 'queue_settings': None, 'swept': False}), 'aggregate_model_weights_1': Command({'parameters': {}, 'init': False, 'type': 'command', 'status': None, 'log_files': None, 'name': 'aggregate_model_weights_1', 'description': None, 'tags': {}, 'properties': {}, 'print_as_yaml': True, 'id': None, 'Resource__source_path': None, 'base_path': 'c:\\\\Users\\\\gargamit\\\\OneDrive - Microsoft\\\\Documents\\\\azure-samples-main-repo\\\\azure-ml-federated-learning\\\\examples\\\\pipelines\\\\fl_cross_silo_scatter_gather', 'creation_context': None, 'serialize': <msrest.serialization.Serializer object at 0x0000024A3B01BED0>, 'allowed_keys': {}, 'key_restriction': False, 'logger': <Logger attr_dict (WARNING)>, 'display_name': None, 'experiment_name': None, 'compute': 'orchestrator-01', 'services': None, 'comment': None, 'job_inputs': {'from_silo_input': '${{parent.jobs.aggregate_output_1.outputs.aggregated_output}}'}, 'job_outputs': {'aggregated_output': {'type': 'uri_folder', 'path': 'azureml://datastores/datastore_orchestrator/paths/federated_learning/aggregated_output/${{name}}/'}}, 'inputs': {'from_silo_input': <azure.ai.ml.entities._job.pipeline._io.base.NodeInput object at 0x0000024A3B0185D0>}, 'outputs': {'aggregated_output': <azure.ai.ml.entities._job.pipeline._io.base.NodeOutput object at 0x0000024A3B018390>}, 'component': 'azureml_anonymous:e7ffd5ee-f174-47f3-b2e1-bfac0adee85c', 'referenced_control_flow_node_instance_id': None, 'kwargs': {'services': None}, 'instance_id': '963efb64-a915-4097-88f6-3a1bb7a7d2c1', 'source': 'REMOTE.WORKSPACE.COMPONENT', 'validate_required_input_not_provided': True, 'limits': None, 'identity': None, 'distribution': None, 'environment_variables': {}, 'environment': None, 'resources': None, 'queue_settings': None, 'swept': False})}, 'job_types': {'pipeline': 6, 'command': 4}, 'job_sources': {'REMOTE.WORKSPACE.COMPONENT': 10}, 'source_job_id': None}), 'type': 'pipeline', 'status': 'Preparing', 'log_files': None, 'name': 'tender_carrot_tw6d612dlk', 'description': None, 'tags': {}, 'properties': {'mlflow.source.git.repoURL': 'https://github.com/Azure-Samples/azure-ml-federated-learning.git', 'mlflow.source.git.branch': 'gargamit/fl_sdk_contract', 'mlflow.source.git.commit': '102bb204370a1aac99849c859b53134b74a43670', 'azureml.git.dirty': 'False', 'azureml.DevPlatv2': 'true', 'azureml.runsource': 'azureml.PipelineRun', 'runSource': 'MFE', 'runType': 'HTTP', 'azureml.parameters': '{}', 'azureml.continue_on_step_failure': 'True', 'azureml.continue_on_failed_optional_input': 'True', 'azureml.defaultComputeName': 'orchestrator-01', 'azureml.defaultDataStoreName': 'workspaceblobstore', 'azureml.pipelineComponent': 'pipelinerun'}, 'print_as_yaml': True, 'id': '/subscriptions/48bbc269-ce89-4f6f-9a12-c6f91fcb772d/resourceGroups/amitgarg-fldev-rg/providers/Microsoft.MachineLearningServices/workspaces/aml-flhe/jobs/tender_carrot_tw6d612dlk', 'Resource__source_path': None, 'base_path': 'c:\\\\Users\\\\gargamit\\\\OneDrive - Microsoft\\\\Documents\\\\azure-samples-main-repo\\\\azure-ml-federated-learning\\\\examples\\\\pipelines\\\\fl_cross_silo_scatter_gather', 'creation_context': <azure.ai.ml.entities._system_data.SystemData object at 0x0000024A3995AE90>, 'serialize': <msrest.serialization.Serializer object at 0x0000024A3AB21C10>, 'display_name': 'fl_pipeline', 'experiment_name': 'example_fl_pipeline', 'compute': None, 'services': {'Tracking': {'endpoint': 'azureml://eastus.api.azureml.ms/mlflow/v1.0/subscriptions/48bbc269-ce89-4f6f-9a12-c6f91fcb772d/resourceGroups/amitgarg-fldev-rg/providers/Microsoft.MachineLearningServices/workspaces/aml-flhe?', 'job_service_type': 'Tracking'}, 'Studio': {'endpoint': 'https://ml.azure.com/runs/tender_carrot_tw6d612dlk?wsid=/subscriptions/48bbc269-ce89-4f6f-9a12-c6f91fcb772d/resourcegroups/amitgarg-fldev-rg/workspaces/aml-flhe&tid=72f988bf-86f1-41af-91ab-2d7cd011db47', 'job_service_type': 'Studio'}}, 'settings': {}, 'identity': None, 'default_code': None, 'default_environment': None})"
      ]
     },
     "execution_count": 9,
     "metadata": {},
     "output_type": "execute_result"
    }
   ],
   "source": [
    "from azure.ai.ml.dsl import pipeline\n",
    "import azure.ai.ml.dsl._fl_scatter_gather_node as fl\n",
    "from azure.ai.ml.entities._credentials import UserIdentityConfiguration\n",
    "\n",
    "\n",
    "iterations = 2 # arbitrary value set for example\n",
    "@pipeline(default_compute=YAML_CONFIG.orchestrator.compute)\n",
    "def fl_pipeline():\n",
    "    fl_node = fl.fl_scatter_gather(\n",
    "        silo_configs=silo_list,\n",
    "        silo_component=silo_scatter_subgraph,\n",
    "        aggregation_component=aggregate_component,\n",
    "        aggregation_compute=YAML_CONFIG.orchestrator.compute,\n",
    "        aggregation_datastore=YAML_CONFIG.orchestrator.datastore,\n",
    "        shared_silo_kwargs=silo_kwargs,\n",
    "        aggregation_kwargs=agg_kwargs,\n",
    "        silo_to_aggregation_argument_map=silo_to_aggregation_argument_map,\n",
    "        aggregation_to_silo_argument_map=aggregation_to_silo_argument_map,\n",
    "        max_iterations=YAML_CONFIG.iterations, \n",
    "    )\n",
    "    # NOTE: If you wish to examine the client-side subgraph, uncomment the following line (warning: large output)\n",
    "    # print(fl_node.subgraph)\n",
    "\n",
    "fl_pipeline_job = fl_pipeline()\n",
    "# fl_pipeline_job.identity = UserIdentityConfiguration()\n",
    "fl_pipeline_job = ml_client.jobs.create_or_update(fl_pipeline_job, experiment_name=\"example_fl_pipeline\")\n",
    "fl_pipeline_job"
   ]
  },
  {
   "cell_type": "code",
   "execution_count": null,
   "metadata": {},
   "outputs": [],
   "source": []
  }
 ],
 "metadata": {
  "kernelspec": {
   "display_name": "fl_sdk_test",
   "language": "python",
   "name": "python3"
  },
  "language_info": {
   "codemirror_mode": {
    "name": "ipython",
    "version": 3
   },
   "file_extension": ".py",
   "mimetype": "text/x-python",
   "name": "python",
   "nbconvert_exporter": "python",
   "pygments_lexer": "ipython3",
   "version": "3.11.0"
  },
  "orig_nbformat": 4,
  "vscode": {
   "interpreter": {
    "hash": "8fd1569a76b7ca3eba0da9e0ecbed98cdf9c274b2525be53134564ec5983f107"
   }
  }
 },
 "nbformat": 4,
 "nbformat_minor": 2
}
