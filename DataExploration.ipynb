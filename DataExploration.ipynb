{
 "cells": [
  {
   "cell_type": "code",
   "execution_count": 184,
   "metadata": {},
   "outputs": [],
   "source": [
    "import pandas as pd\n",
    "import matplotlib.pyplot as plt"
   ]
  },
  {
   "cell_type": "code",
   "execution_count": 185,
   "metadata": {},
   "outputs": [
    {
     "data": {
      "text/html": [
       "<div>\n",
       "<style scoped>\n",
       "    .dataframe tbody tr th:only-of-type {\n",
       "        vertical-align: middle;\n",
       "    }\n",
       "\n",
       "    .dataframe tbody tr th {\n",
       "        vertical-align: top;\n",
       "    }\n",
       "\n",
       "    .dataframe thead th {\n",
       "        text-align: right;\n",
       "    }\n",
       "</style>\n",
       "<table border=\"1\" class=\"dataframe\">\n",
       "  <thead>\n",
       "    <tr style=\"text-align: right;\">\n",
       "      <th></th>\n",
       "      <th>State</th>\n",
       "      <th>StateCode</th>\n",
       "      <th>Region</th>\n",
       "      <th>Division</th>\n",
       "    </tr>\n",
       "  </thead>\n",
       "  <tbody>\n",
       "    <tr>\n",
       "      <th>0</th>\n",
       "      <td>Alaska</td>\n",
       "      <td>AK</td>\n",
       "      <td>West</td>\n",
       "      <td>Pacific</td>\n",
       "    </tr>\n",
       "    <tr>\n",
       "      <th>1</th>\n",
       "      <td>Alabama</td>\n",
       "      <td>AL</td>\n",
       "      <td>South</td>\n",
       "      <td>East South Central</td>\n",
       "    </tr>\n",
       "    <tr>\n",
       "      <th>2</th>\n",
       "      <td>Arkansas</td>\n",
       "      <td>AR</td>\n",
       "      <td>South</td>\n",
       "      <td>West South Central</td>\n",
       "    </tr>\n",
       "    <tr>\n",
       "      <th>3</th>\n",
       "      <td>Arizona</td>\n",
       "      <td>AZ</td>\n",
       "      <td>West</td>\n",
       "      <td>Mountain</td>\n",
       "    </tr>\n",
       "    <tr>\n",
       "      <th>4</th>\n",
       "      <td>California</td>\n",
       "      <td>CA</td>\n",
       "      <td>West</td>\n",
       "      <td>Pacific</td>\n",
       "    </tr>\n",
       "  </tbody>\n",
       "</table>\n",
       "</div>"
      ],
      "text/plain": [
       "        State StateCode Region            Division\n",
       "0      Alaska        AK   West             Pacific\n",
       "1     Alabama        AL  South  East South Central\n",
       "2    Arkansas        AR  South  West South Central\n",
       "3     Arizona        AZ   West            Mountain\n",
       "4  California        CA   West             Pacific"
      ]
     },
     "execution_count": 185,
     "metadata": {},
     "output_type": "execute_result"
    }
   ],
   "source": [
    "df_states_regions = pd.read_csv(\"./examples/components/CreditCardFraud/preprocessing/us_regions.csv\")\n",
    "states_regions = {row.StateCode: row.Region for row in df_states_regions.itertuples()}\n",
    "\n",
    "df_states_regions.head()"
   ]
  },
  {
   "cell_type": "code",
   "execution_count": 186,
   "metadata": {},
   "outputs": [
    {
     "data": {
      "text/plain": [
       "['West', 'South', 'Northeast', 'Midwest']"
      ]
     },
     "execution_count": 186,
     "metadata": {},
     "output_type": "execute_result"
    }
   ],
   "source": [
    "list(df_states_regions['Region'].unique())"
   ]
  },
  {
   "cell_type": "code",
   "execution_count": 216,
   "metadata": {},
   "outputs": [],
   "source": [
    "useful_props = ['amt','cc_num', 'merch_lat', 'merch_long', 'category', 'gender', 'state', 'zip', 'lat', 'long', 'city_pop', 'job', 'dob', 'trans_date_trans_time', 'is_fraud']\n",
    "categorical = ['category', 'gender', 'region', 'state', 'job']\n",
    "datetimes = ['dob', 'trans_date_trans_time']\n",
    "normalize = ['dob', 'age']\n",
    "\n",
    "def basic_transforms(df):\n",
    "    # Just so we are always aware of all available columns\n",
    "    print(df.columns)\n",
    "\n",
    "    # Filter only useful columns\n",
    "    df = df[useful_props]\n",
    "\n",
    "    # df[\"full_name\"] = df[\"first\"] + \" \" + df[\"last\"]\n",
    "    df.loc[:, 'region'] = df['state'].map(states_regions)\n",
    "    df.loc[:, 'age'] = (pd.Timestamp.now() - pd.to_datetime(df['dob'])) // pd.Timedelta('1y')\n",
    "    for column in categorical:\n",
    "        df = df.join(pd.get_dummies(df[column], prefix=column)).drop(column, axis=1)\n",
    "\n",
    "    for column in datetimes:\n",
    "        df.loc[:, column] = pd.to_datetime(df[column]).view('int64')\n",
    "    for column in normalize:\n",
    "        df.loc[:, column] = (df[column] - df[column].min())/(df[column].max() - df[column].min())\n",
    "\n",
    "    return df"
   ]
  },
  {
   "cell_type": "code",
   "execution_count": 217,
   "metadata": {},
   "outputs": [
    {
     "name": "stdout",
     "output_type": "stream",
     "text": [
      "Index(['trans_date_trans_time', 'cc_num', 'merchant', 'category', 'amt',\n",
      "       'first', 'last', 'gender', 'street', 'city', 'state', 'zip', 'lat',\n",
      "       'long', 'city_pop', 'job', 'dob', 'trans_num', 'unix_time', 'merch_lat',\n",
      "       'merch_long', 'is_fraud'],\n",
      "      dtype='object')\n"
     ]
    },
    {
     "name": "stderr",
     "output_type": "stream",
     "text": [
      "c:\\Users\\damajercak\\.conda\\envs\\fl\\lib\\site-packages\\pandas\\core\\indexing.py:1596: SettingWithCopyWarning: \n",
      "A value is trying to be set on a copy of a slice from a DataFrame.\n",
      "Try using .loc[row_indexer,col_indexer] = value instead\n",
      "\n",
      "See the caveats in the documentation: https://pandas.pydata.org/pandas-docs/stable/user_guide/indexing.html#returning-a-view-versus-a-copy\n",
      "  self.obj[key] = _infer_fill_value(value)\n",
      "c:\\Users\\damajercak\\.conda\\envs\\fl\\lib\\site-packages\\pandas\\core\\indexing.py:1743: SettingWithCopyWarning: \n",
      "A value is trying to be set on a copy of a slice from a DataFrame.\n",
      "Try using .loc[row_indexer,col_indexer] = value instead\n",
      "\n",
      "See the caveats in the documentation: https://pandas.pydata.org/pandas-docs/stable/user_guide/indexing.html#returning-a-view-versus-a-copy\n",
      "  isetter(ilocs[0], value)\n"
     ]
    },
    {
     "name": "stdout",
     "output_type": "stream",
     "text": [
      "Index(['trans_date_trans_time', 'cc_num', 'merchant', 'category', 'amt',\n",
      "       'first', 'last', 'gender', 'street', 'city', 'state', 'zip', 'lat',\n",
      "       'long', 'city_pop', 'job', 'dob', 'trans_num', 'unix_time', 'merch_lat',\n",
      "       'merch_long', 'is_fraud'],\n",
      "      dtype='object')\n",
      "Index(['amt', 'cc_num', 'merch_lat', 'merch_long', 'zip', 'lat', 'long',\n",
      "       'city_pop', 'dob', 'trans_date_trans_time',\n",
      "       ...\n",
      "       'job_Visual merchandiser', 'job_Volunteer coordinator',\n",
      "       'job_Warden/ranger', 'job_Warehouse manager',\n",
      "       'job_Waste management officer', 'job_Water engineer',\n",
      "       'job_Water quality scientist', 'job_Web designer',\n",
      "       'job_Wellsite geologist', 'job_Writer'],\n",
      "      dtype='object', length=577)\n"
     ]
    },
    {
     "data": {
      "text/html": [
       "<div>\n",
       "<style scoped>\n",
       "    .dataframe tbody tr th:only-of-type {\n",
       "        vertical-align: middle;\n",
       "    }\n",
       "\n",
       "    .dataframe tbody tr th {\n",
       "        vertical-align: top;\n",
       "    }\n",
       "\n",
       "    .dataframe thead th {\n",
       "        text-align: right;\n",
       "    }\n",
       "</style>\n",
       "<table border=\"1\" class=\"dataframe\">\n",
       "  <thead>\n",
       "    <tr style=\"text-align: right;\">\n",
       "      <th></th>\n",
       "      <th>amt</th>\n",
       "      <th>cc_num</th>\n",
       "      <th>merch_lat</th>\n",
       "      <th>merch_long</th>\n",
       "      <th>zip</th>\n",
       "      <th>lat</th>\n",
       "      <th>long</th>\n",
       "      <th>city_pop</th>\n",
       "      <th>dob</th>\n",
       "      <th>trans_date_trans_time</th>\n",
       "      <th>...</th>\n",
       "      <th>job_Visual merchandiser</th>\n",
       "      <th>job_Volunteer coordinator</th>\n",
       "      <th>job_Warden/ranger</th>\n",
       "      <th>job_Warehouse manager</th>\n",
       "      <th>job_Waste management officer</th>\n",
       "      <th>job_Water engineer</th>\n",
       "      <th>job_Water quality scientist</th>\n",
       "      <th>job_Web designer</th>\n",
       "      <th>job_Wellsite geologist</th>\n",
       "      <th>job_Writer</th>\n",
       "    </tr>\n",
       "  </thead>\n",
       "  <tbody>\n",
       "    <tr>\n",
       "      <th>0</th>\n",
       "      <td>4.97</td>\n",
       "      <td>2703186189652095</td>\n",
       "      <td>36.011293</td>\n",
       "      <td>-82.048315</td>\n",
       "      <td>28654</td>\n",
       "      <td>36.0788</td>\n",
       "      <td>-81.1781</td>\n",
       "      <td>3495</td>\n",
       "      <td>0.789499</td>\n",
       "      <td>1546300818000000000</td>\n",
       "      <td>...</td>\n",
       "      <td>0</td>\n",
       "      <td>0</td>\n",
       "      <td>0</td>\n",
       "      <td>0</td>\n",
       "      <td>0</td>\n",
       "      <td>0</td>\n",
       "      <td>0</td>\n",
       "      <td>0</td>\n",
       "      <td>0</td>\n",
       "      <td>0</td>\n",
       "    </tr>\n",
       "    <tr>\n",
       "      <th>1</th>\n",
       "      <td>107.23</td>\n",
       "      <td>630423337322</td>\n",
       "      <td>49.159047</td>\n",
       "      <td>-118.186462</td>\n",
       "      <td>99160</td>\n",
       "      <td>48.8878</td>\n",
       "      <td>-118.2105</td>\n",
       "      <td>149</td>\n",
       "      <td>0.668418</td>\n",
       "      <td>1546300844000000000</td>\n",
       "      <td>...</td>\n",
       "      <td>0</td>\n",
       "      <td>0</td>\n",
       "      <td>0</td>\n",
       "      <td>0</td>\n",
       "      <td>0</td>\n",
       "      <td>0</td>\n",
       "      <td>0</td>\n",
       "      <td>0</td>\n",
       "      <td>0</td>\n",
       "      <td>0</td>\n",
       "    </tr>\n",
       "    <tr>\n",
       "      <th>2</th>\n",
       "      <td>220.11</td>\n",
       "      <td>38859492057661</td>\n",
       "      <td>43.150704</td>\n",
       "      <td>-112.154481</td>\n",
       "      <td>83252</td>\n",
       "      <td>42.1808</td>\n",
       "      <td>-112.2620</td>\n",
       "      <td>4154</td>\n",
       "      <td>0.463819</td>\n",
       "      <td>1546300851000000000</td>\n",
       "      <td>...</td>\n",
       "      <td>0</td>\n",
       "      <td>0</td>\n",
       "      <td>0</td>\n",
       "      <td>0</td>\n",
       "      <td>0</td>\n",
       "      <td>0</td>\n",
       "      <td>0</td>\n",
       "      <td>0</td>\n",
       "      <td>0</td>\n",
       "      <td>0</td>\n",
       "    </tr>\n",
       "    <tr>\n",
       "      <th>3</th>\n",
       "      <td>45.00</td>\n",
       "      <td>3534093764340240</td>\n",
       "      <td>47.034331</td>\n",
       "      <td>-112.561071</td>\n",
       "      <td>59632</td>\n",
       "      <td>46.2306</td>\n",
       "      <td>-112.1138</td>\n",
       "      <td>1939</td>\n",
       "      <td>0.525878</td>\n",
       "      <td>1546300876000000000</td>\n",
       "      <td>...</td>\n",
       "      <td>0</td>\n",
       "      <td>0</td>\n",
       "      <td>0</td>\n",
       "      <td>0</td>\n",
       "      <td>0</td>\n",
       "      <td>0</td>\n",
       "      <td>0</td>\n",
       "      <td>0</td>\n",
       "      <td>0</td>\n",
       "      <td>0</td>\n",
       "    </tr>\n",
       "    <tr>\n",
       "      <th>4</th>\n",
       "      <td>41.96</td>\n",
       "      <td>375534208663984</td>\n",
       "      <td>38.674999</td>\n",
       "      <td>-78.632459</td>\n",
       "      <td>24433</td>\n",
       "      <td>38.4207</td>\n",
       "      <td>-79.4629</td>\n",
       "      <td>99</td>\n",
       "      <td>0.765208</td>\n",
       "      <td>1546300986000000000</td>\n",
       "      <td>...</td>\n",
       "      <td>0</td>\n",
       "      <td>0</td>\n",
       "      <td>0</td>\n",
       "      <td>0</td>\n",
       "      <td>0</td>\n",
       "      <td>0</td>\n",
       "      <td>0</td>\n",
       "      <td>0</td>\n",
       "      <td>0</td>\n",
       "      <td>0</td>\n",
       "    </tr>\n",
       "  </tbody>\n",
       "</table>\n",
       "<p>5 rows × 577 columns</p>\n",
       "</div>"
      ],
      "text/plain": [
       "      amt            cc_num  merch_lat  merch_long    zip      lat      long  \\\n",
       "0    4.97  2703186189652095  36.011293  -82.048315  28654  36.0788  -81.1781   \n",
       "1  107.23      630423337322  49.159047 -118.186462  99160  48.8878 -118.2105   \n",
       "2  220.11    38859492057661  43.150704 -112.154481  83252  42.1808 -112.2620   \n",
       "3   45.00  3534093764340240  47.034331 -112.561071  59632  46.2306 -112.1138   \n",
       "4   41.96   375534208663984  38.674999  -78.632459  24433  38.4207  -79.4629   \n",
       "\n",
       "   city_pop       dob  trans_date_trans_time  ...  job_Visual merchandiser  \\\n",
       "0      3495  0.789499    1546300818000000000  ...                        0   \n",
       "1       149  0.668418    1546300844000000000  ...                        0   \n",
       "2      4154  0.463819    1546300851000000000  ...                        0   \n",
       "3      1939  0.525878    1546300876000000000  ...                        0   \n",
       "4        99  0.765208    1546300986000000000  ...                        0   \n",
       "\n",
       "   job_Volunteer coordinator  job_Warden/ranger  job_Warehouse manager  \\\n",
       "0                          0                  0                      0   \n",
       "1                          0                  0                      0   \n",
       "2                          0                  0                      0   \n",
       "3                          0                  0                      0   \n",
       "4                          0                  0                      0   \n",
       "\n",
       "   job_Waste management officer  job_Water engineer  \\\n",
       "0                             0                   0   \n",
       "1                             0                   0   \n",
       "2                             0                   0   \n",
       "3                             0                   0   \n",
       "4                             0                   0   \n",
       "\n",
       "   job_Water quality scientist  job_Web designer  job_Wellsite geologist  \\\n",
       "0                            0                 0                       0   \n",
       "1                            0                 0                       0   \n",
       "2                            0                 0                       0   \n",
       "3                            0                 0                       0   \n",
       "4                            0                 0                       0   \n",
       "\n",
       "   job_Writer  \n",
       "0           0  \n",
       "1           0  \n",
       "2           0  \n",
       "3           0  \n",
       "4           0  \n",
       "\n",
       "[5 rows x 577 columns]"
      ]
     },
     "execution_count": 217,
     "metadata": {},
     "output_type": "execute_result"
    }
   ],
   "source": [
    "df_train = pd.read_csv(\"fraudTrain.csv\", index_col=0)\n",
    "df_test = pd.read_csv(\"fraudTest.csv\", index_col=0)\n",
    "\n",
    "df_train = basic_transforms(df_train)\n",
    "df_test = basic_transforms(df_test)\n",
    "\n",
    "print(df_train.columns)\n",
    "df_train.head()"
   ]
  },
  {
   "cell_type": "code",
   "execution_count": 225,
   "metadata": {},
   "outputs": [],
   "source": [
    "import torch"
   ]
  },
  {
   "cell_type": "code",
   "execution_count": 226,
   "metadata": {},
   "outputs": [
    {
     "data": {
      "text/plain": [
       "<torch.utils.data.dataloader.DataLoader at 0x1bf749339a0>"
      ]
     },
     "execution_count": 226,
     "metadata": {},
     "output_type": "execute_result"
    }
   ],
   "source": [
    "torch.utils.data.DataLoader(df_train)"
   ]
  },
  {
   "cell_type": "code",
   "execution_count": 295,
   "metadata": {},
   "outputs": [],
   "source": [
    "import torch\n",
    "import torch.nn as nn\n",
    "import torch.nn.functional as F\n",
    "\n",
    "device = torch.device(\"cuda:0\" if torch.cuda.is_available() else \"cpu\")\n",
    "batch_size = 1000\n",
    "net = nn.Sequential(\n",
    "    nn.Linear(len(df_train.columns) - 1, 512),\n",
    "    nn.ReLU(),\n",
    "    nn.Linear(512, 256),\n",
    "    nn.ReLU(),\n",
    "    nn.Linear(256, 128),\n",
    "    nn.ReLU(),\n",
    "    nn.Linear(128, 64),\n",
    "    nn.ReLU(),\n",
    "    nn.Linear(64, 32),\n",
    "    nn.ReLU(),\n",
    "    nn.Linear(32, 16),\n",
    "    nn.ReLU(),\n",
    "    nn.Linear(16, 8),\n",
    "    nn.ReLU(),\n",
    "    nn.Linear(8, 4),\n",
    "    nn.ReLU(),\n",
    "    nn.Linear(4, 1),\n",
    "    nn.Sigmoid()\n",
    ").to(device)\n",
    "\n",
    "\n",
    "optimizer = torch.optim.Adam(net.parameters(), lr=1e-3)\n",
    "criterion = nn.BCELoss()"
   ]
  },
  {
   "cell_type": "code",
   "execution_count": 296,
   "metadata": {},
   "outputs": [],
   "source": [
    "class FraudDataset(torch.utils.data.Dataset):\n",
    "    \"\"\"FraudDataset Dataset - combination of features and labels\n",
    "\n",
    "    Args:\n",
    "        feature: Transaction detail tensors\n",
    "        target: Tensor of labels corresponding to features\n",
    "\n",
    "    Returns:\n",
    "        None\n",
    "    \"\"\"\n",
    "\n",
    "    def __init__(self, feature, target=None):\n",
    "        self.X = feature\n",
    "        self.Y = target\n",
    "\n",
    "    def __len__(self):\n",
    "        return len(self.X)\n",
    "\n",
    "    def __getitem__(self, idx):\n",
    "        if self.Y is None:\n",
    "            return [self.X[idx]]\n",
    "        return self.X[idx], self.Y[idx]"
   ]
  },
  {
   "cell_type": "code",
   "execution_count": 297,
   "metadata": {},
   "outputs": [],
   "source": [
    "train_dataset = FraudDataset(torch.tensor(df_train.loc[:, df_train.columns != \"is_fraud\"].values, dtype=torch.float), torch.tensor(df_train.loc[:, \"is_fraud\"].values, dtype=torch.float))\n",
    "test_dataset = FraudDataset(torch.tensor(df_test.loc[:, df_test.columns != \"is_fraud\"].values, dtype=torch.float), torch.tensor(df_test.loc[:, \"is_fraud\"].values, dtype=torch.float))"
   ]
  },
  {
   "cell_type": "code",
   "execution_count": 298,
   "metadata": {},
   "outputs": [],
   "source": [
    "train_dataloader = torch.utils.data.DataLoader(train_dataset, batch_size=batch_size)\n",
    "test_dataloader = torch.utils.data.DataLoader(test_dataset, batch_size=batch_size)"
   ]
  },
  {
   "cell_type": "code",
   "execution_count": 299,
   "metadata": {},
   "outputs": [
    {
     "name": "stdout",
     "output_type": "stream",
     "text": [
      "Epoch: 0/100, Iteration: 50/1, Phase: train, Loss: 0.0009260000346601012, Accuracy: 1.01074\n",
      "Epoch: 0/100, Iteration: 100/1, Phase: train, Loss: 0.001092000042945147, Accuracy: 0.98908\n",
      "Epoch: 0/100, Iteration: 150/1, Phase: train, Loss: 0.000750000025779009, Accuracy: 0.9924999999999998\n",
      "Epoch: 0/100, Iteration: 200/1, Phase: train, Loss: 0.0005240000198781493, Accuracy: 0.9947599999999999\n",
      "Epoch: 0/100, Iteration: 250/1, Phase: train, Loss: 0.0006160000251233578, Accuracy: 0.9938400000000002\n",
      "Epoch: 0/100, Iteration: 300/1, Phase: train, Loss: 0.0006020000189542771, Accuracy: 0.9939799999999995\n",
      "Epoch: 0/100, Iteration: 350/1, Phase: train, Loss: 0.0003260000059008599, Accuracy: 0.9967399999999997\n",
      "Epoch: 0/100, Iteration: 400/1, Phase: train, Loss: 0.0004740000186860563, Accuracy: 0.9952599999999999\n",
      "Epoch: 0/100, Iteration: 450/1, Phase: train, Loss: 0.00035400001078844076, Accuracy: 0.99646\n",
      "Epoch: 0/100, Iteration: 500/1, Phase: train, Loss: 0.0004200000125169755, Accuracy: 0.9958\n",
      "Epoch: 0/100, Iteration: 550/1, Phase: train, Loss: 0.0003480000132322313, Accuracy: 0.9965199999999999\n",
      "Epoch: 0/100, Iteration: 600/1, Phase: train, Loss: 0.000634000019580126, Accuracy: 0.9936599999999999\n",
      "Epoch: 0/100, Iteration: 650/1, Phase: train, Loss: 0.000596000022739172, Accuracy: 0.9940400000000003\n",
      "Epoch: 0/100, Iteration: 700/1, Phase: train, Loss: 0.0006960000231862071, Accuracy: 0.99304\n",
      "Epoch: 0/100, Iteration: 750/1, Phase: train, Loss: 0.0005060000209510327, Accuracy: 0.99494\n",
      "Epoch: 0/100, Iteration: 800/1, Phase: train, Loss: 0.0005180000185966493, Accuracy: 0.9948200000000001\n",
      "Epoch: 0/100, Iteration: 850/1, Phase: train, Loss: 0.00038200001314282425, Accuracy: 0.9961799999999998\n",
      "Epoch: 0/100, Iteration: 900/1, Phase: train, Loss: 0.0004320000158250333, Accuracy: 0.9956799999999998\n",
      "Epoch: 0/100, Iteration: 950/1, Phase: train, Loss: 0.0005860000230371952, Accuracy: 0.9941400000000001\n",
      "Epoch: 0/100, Iteration: 1000/1, Phase: train, Loss: 0.0006420000214874746, Accuracy: 0.9935799999999998\n",
      "Epoch: 0/100, Iteration: 1050/1, Phase: train, Loss: 0.0006220000194013119, Accuracy: 0.9937799999999997\n",
      "Epoch: 0/100, Iteration: 1100/1, Phase: train, Loss: 0.0006900000186264517, Accuracy: 0.9930999999999998\n",
      "Epoch: 0/100, Iteration: 1150/1, Phase: train, Loss: 0.0004320000141859055, Accuracy: 0.99568\n",
      "Epoch: 0/100, Iteration: 1200/1, Phase: train, Loss: 0.0007240000271797184, Accuracy: 0.9927599999999999\n",
      "Epoch: 0/100, Iteration: 1250/1, Phase: train, Loss: 0.0005580000168085099, Accuracy: 0.9944199999999997\n"
     ]
    },
    {
     "ename": "RuntimeError",
     "evalue": "mat1 and mat2 shapes cannot be multiplied (1000x559 and 576x512)",
     "output_type": "error",
     "traceback": [
      "\u001b[1;31m---------------------------------------------------------------------------\u001b[0m",
      "\u001b[1;31mRuntimeError\u001b[0m                              Traceback (most recent call last)",
      "Cell \u001b[1;32mIn [299], line 16\u001b[0m\n\u001b[0;32m     13\u001b[0m \u001b[39mif\u001b[39;00m phase \u001b[39m==\u001b[39m \u001b[39m'\u001b[39m\u001b[39mtrain\u001b[39m\u001b[39m'\u001b[39m:\n\u001b[0;32m     14\u001b[0m     optimizer\u001b[39m.\u001b[39mzero_grad()\n\u001b[1;32m---> 16\u001b[0m predictions \u001b[39m=\u001b[39m net(data)\n\u001b[0;32m     17\u001b[0m accuracy \u001b[39m=\u001b[39m \u001b[39mfloat\u001b[39m((predictions \u001b[39m==\u001b[39m labels\u001b[39m.\u001b[39mreshape(\u001b[39m-\u001b[39m\u001b[39m1\u001b[39m,\u001b[39m1\u001b[39m))\u001b[39m.\u001b[39mdetach()\u001b[39m.\u001b[39mcpu()\u001b[39m.\u001b[39mnumpy()\u001b[39m.\u001b[39msum()) \u001b[39m/\u001b[39m data\u001b[39m.\u001b[39msize()[\u001b[39m0\u001b[39m]\n\u001b[0;32m     18\u001b[0m running_acc \u001b[39m+\u001b[39m\u001b[39m=\u001b[39m accuracy\n",
      "File \u001b[1;32mc:\\Users\\damajercak\\.conda\\envs\\fl\\lib\\site-packages\\torch\\nn\\modules\\module.py:1190\u001b[0m, in \u001b[0;36mModule._call_impl\u001b[1;34m(self, *input, **kwargs)\u001b[0m\n\u001b[0;32m   1186\u001b[0m \u001b[39m# If we don't have any hooks, we want to skip the rest of the logic in\u001b[39;00m\n\u001b[0;32m   1187\u001b[0m \u001b[39m# this function, and just call forward.\u001b[39;00m\n\u001b[0;32m   1188\u001b[0m \u001b[39mif\u001b[39;00m \u001b[39mnot\u001b[39;00m (\u001b[39mself\u001b[39m\u001b[39m.\u001b[39m_backward_hooks \u001b[39mor\u001b[39;00m \u001b[39mself\u001b[39m\u001b[39m.\u001b[39m_forward_hooks \u001b[39mor\u001b[39;00m \u001b[39mself\u001b[39m\u001b[39m.\u001b[39m_forward_pre_hooks \u001b[39mor\u001b[39;00m _global_backward_hooks\n\u001b[0;32m   1189\u001b[0m         \u001b[39mor\u001b[39;00m _global_forward_hooks \u001b[39mor\u001b[39;00m _global_forward_pre_hooks):\n\u001b[1;32m-> 1190\u001b[0m     \u001b[39mreturn\u001b[39;00m forward_call(\u001b[39m*\u001b[39;49m\u001b[39minput\u001b[39;49m, \u001b[39m*\u001b[39;49m\u001b[39m*\u001b[39;49mkwargs)\n\u001b[0;32m   1191\u001b[0m \u001b[39m# Do not call functions when jit is used\u001b[39;00m\n\u001b[0;32m   1192\u001b[0m full_backward_hooks, non_full_backward_hooks \u001b[39m=\u001b[39m [], []\n",
      "File \u001b[1;32mc:\\Users\\damajercak\\.conda\\envs\\fl\\lib\\site-packages\\torch\\nn\\modules\\container.py:204\u001b[0m, in \u001b[0;36mSequential.forward\u001b[1;34m(self, input)\u001b[0m\n\u001b[0;32m    202\u001b[0m \u001b[39mdef\u001b[39;00m \u001b[39mforward\u001b[39m(\u001b[39mself\u001b[39m, \u001b[39minput\u001b[39m):\n\u001b[0;32m    203\u001b[0m     \u001b[39mfor\u001b[39;00m module \u001b[39min\u001b[39;00m \u001b[39mself\u001b[39m:\n\u001b[1;32m--> 204\u001b[0m         \u001b[39minput\u001b[39m \u001b[39m=\u001b[39m module(\u001b[39minput\u001b[39;49m)\n\u001b[0;32m    205\u001b[0m     \u001b[39mreturn\u001b[39;00m \u001b[39minput\u001b[39m\n",
      "File \u001b[1;32mc:\\Users\\damajercak\\.conda\\envs\\fl\\lib\\site-packages\\torch\\nn\\modules\\module.py:1190\u001b[0m, in \u001b[0;36mModule._call_impl\u001b[1;34m(self, *input, **kwargs)\u001b[0m\n\u001b[0;32m   1186\u001b[0m \u001b[39m# If we don't have any hooks, we want to skip the rest of the logic in\u001b[39;00m\n\u001b[0;32m   1187\u001b[0m \u001b[39m# this function, and just call forward.\u001b[39;00m\n\u001b[0;32m   1188\u001b[0m \u001b[39mif\u001b[39;00m \u001b[39mnot\u001b[39;00m (\u001b[39mself\u001b[39m\u001b[39m.\u001b[39m_backward_hooks \u001b[39mor\u001b[39;00m \u001b[39mself\u001b[39m\u001b[39m.\u001b[39m_forward_hooks \u001b[39mor\u001b[39;00m \u001b[39mself\u001b[39m\u001b[39m.\u001b[39m_forward_pre_hooks \u001b[39mor\u001b[39;00m _global_backward_hooks\n\u001b[0;32m   1189\u001b[0m         \u001b[39mor\u001b[39;00m _global_forward_hooks \u001b[39mor\u001b[39;00m _global_forward_pre_hooks):\n\u001b[1;32m-> 1190\u001b[0m     \u001b[39mreturn\u001b[39;00m forward_call(\u001b[39m*\u001b[39;49m\u001b[39minput\u001b[39;49m, \u001b[39m*\u001b[39;49m\u001b[39m*\u001b[39;49mkwargs)\n\u001b[0;32m   1191\u001b[0m \u001b[39m# Do not call functions when jit is used\u001b[39;00m\n\u001b[0;32m   1192\u001b[0m full_backward_hooks, non_full_backward_hooks \u001b[39m=\u001b[39m [], []\n",
      "File \u001b[1;32mc:\\Users\\damajercak\\.conda\\envs\\fl\\lib\\site-packages\\torch\\nn\\modules\\linear.py:114\u001b[0m, in \u001b[0;36mLinear.forward\u001b[1;34m(self, input)\u001b[0m\n\u001b[0;32m    113\u001b[0m \u001b[39mdef\u001b[39;00m \u001b[39mforward\u001b[39m(\u001b[39mself\u001b[39m, \u001b[39minput\u001b[39m: Tensor) \u001b[39m-\u001b[39m\u001b[39m>\u001b[39m Tensor:\n\u001b[1;32m--> 114\u001b[0m     \u001b[39mreturn\u001b[39;00m F\u001b[39m.\u001b[39;49mlinear(\u001b[39minput\u001b[39;49m, \u001b[39mself\u001b[39;49m\u001b[39m.\u001b[39;49mweight, \u001b[39mself\u001b[39;49m\u001b[39m.\u001b[39;49mbias)\n",
      "\u001b[1;31mRuntimeError\u001b[0m: mat1 and mat2 shapes cannot be multiplied (1000x559 and 576x512)"
     ]
    }
   ],
   "source": [
    "epochs = 100\n",
    "running_loss = 0.0\n",
    "running_acc = 0.0\n",
    "for epoch in range(100):\n",
    "    for phase in ['train', 'test']:\n",
    "        dataloader = train_dataloader if phase == 'train' else test_dataloader\n",
    "\n",
    "        net.train() if phase == 'train'else net.eval()\n",
    "\n",
    "        for i, batch in enumerate(dataloader):\n",
    "            data, labels = batch[0].to(device), batch[1].to(device)\n",
    "\n",
    "            if phase == 'train':\n",
    "                optimizer.zero_grad()\n",
    "\n",
    "            predictions = net(data)\n",
    "            accuracy = float((predictions == labels.reshape(-1,1)).detach().cpu().numpy().sum()) / data.size()[0]\n",
    "            running_acc += accuracy\n",
    "\n",
    "            if phase == 'train':\n",
    "                cost = criterion(predictions, labels.reshape(-1,1))\n",
    "                cost.backward()\n",
    "                optimizer.step()\n",
    "\n",
    "                running_loss += cost.cpu().detach().numpy() / data.size()[0]\n",
    "                if i != 0 and i % 50 == 0:\n",
    "                    training_loss = running_loss / 50\n",
    "                    training_acc = running_acc / 50\n",
    "                    print(\n",
    "                        f\"Epoch: {epoch}/{epochs}, Iteration: {i}/{len(dataloader)//batch_size}, Phase: {phase}, Loss: {training_loss}, Accuracy: {training_acc}\"\n",
    "                    )\n",
    "\n",
    "                    running_loss = 0.0\n",
    "                    running_acc = 0.0\n",
    "            else:\n",
    "                if i != 0 and i % 50 == 0:\n",
    "                    training_acc = running_acc / 50\n",
    "                    print(\n",
    "                        f\"Epoch: {epoch}/{epochs}, Iteration: {i}/{len(dataloader)//batch_size}, Phase: {phase}, Accuracy: {training_acc}\"\n",
    "                    )\n",
    "\n",
    "                    running_acc = 0.0"
   ]
  },
  {
   "cell_type": "code",
   "execution_count": 275,
   "metadata": {},
   "outputs": [
    {
     "data": {
      "text/plain": [
       "tensor([[0.6469],\n",
       "        [0.6470]], device='cuda:0', grad_fn=<SigmoidBackward0>)"
      ]
     },
     "execution_count": 275,
     "metadata": {},
     "output_type": "execute_result"
    }
   ],
   "source": [
    "net(torch.rand((2, 576), dtype=torch.float).to(device))"
   ]
  },
  {
   "cell_type": "code",
   "execution_count": 272,
   "metadata": {},
   "outputs": [
    {
     "data": {
      "text/plain": [
       "tensor([[4.9700e+00, 2.7032e+15, 3.6011e+01,  ..., 0.0000e+00, 0.0000e+00,\n",
       "         0.0000e+00],\n",
       "        [1.0723e+02, 6.3042e+11, 4.9159e+01,  ..., 0.0000e+00, 0.0000e+00,\n",
       "         0.0000e+00]], device='cuda:0', dtype=torch.float64)"
      ]
     },
     "execution_count": 272,
     "metadata": {},
     "output_type": "execute_result"
    }
   ],
   "source": [
    "data"
   ]
  },
  {
   "cell_type": "code",
   "execution_count": 273,
   "metadata": {},
   "outputs": [
    {
     "data": {
      "text/plain": [
       "tensor([[0.1483, 0.1812, 0.1934,  ..., 0.5835, 0.4280, 0.1526],\n",
       "        [0.7082, 0.6560, 0.4368,  ..., 0.4499, 0.8403, 0.8344]],\n",
       "       device='cuda:0', dtype=torch.float64)"
      ]
     },
     "execution_count": 273,
     "metadata": {},
     "output_type": "execute_result"
    }
   ],
   "source": [
    "torch.rand((2, 576), dtype=torch.float64).to(device)"
   ]
  },
  {
   "cell_type": "code",
   "execution_count": null,
   "metadata": {},
   "outputs": [],
   "source": []
  }
 ],
 "metadata": {
  "kernelspec": {
   "display_name": "Python 3.8.13 ('fl')",
   "language": "python",
   "name": "python3"
  },
  "language_info": {
   "codemirror_mode": {
    "name": "ipython",
    "version": 3
   },
   "file_extension": ".py",
   "mimetype": "text/x-python",
   "name": "python",
   "nbconvert_exporter": "python",
   "pygments_lexer": "ipython3",
   "version": "3.8.13"
  },
  "orig_nbformat": 4,
  "vscode": {
   "interpreter": {
    "hash": "1077eee06993cd7cc8abd3b05a0a6bc1885796a9ebf8ac85522f7723ef2872fe"
   }
  }
 },
 "nbformat": 4,
 "nbformat_minor": 2
}
